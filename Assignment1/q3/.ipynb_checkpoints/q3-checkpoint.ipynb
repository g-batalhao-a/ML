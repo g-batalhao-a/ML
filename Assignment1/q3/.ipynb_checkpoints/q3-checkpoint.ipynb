{
 "cells": [
  {
   "cell_type": "code",
   "execution_count": 27,
   "id": "0d48deb4",
   "metadata": {},
   "outputs": [
    {
     "name": "stdout",
     "output_type": "stream",
     "text": [
      "Requirement already satisfied: pandas in c:\\users\\gbata\\anaconda3\\lib\\site-packages (1.4.4)\n",
      "Requirement already satisfied: numpy>=1.18.5 in c:\\users\\gbata\\anaconda3\\lib\\site-packages (from pandas) (1.23.2)\n",
      "Requirement already satisfied: python-dateutil>=2.8.1 in c:\\users\\gbata\\anaconda3\\lib\\site-packages (from pandas) (2.8.2)\n",
      "Requirement already satisfied: pytz>=2020.1 in c:\\users\\gbata\\anaconda3\\lib\\site-packages (from pandas) (2021.3)\n",
      "Requirement already satisfied: six>=1.5 in c:\\users\\gbata\\anaconda3\\lib\\site-packages (from python-dateutil>=2.8.1->pandas) (1.16.0)\n",
      "Requirement already satisfied: numpy in c:\\users\\gbata\\anaconda3\\lib\\site-packages (1.23.2)\n",
      "Requirement already satisfied: plotly==5.10.0 in c:\\users\\gbata\\anaconda3\\lib\\site-packages (5.10.0)\n",
      "Requirement already satisfied: tenacity>=6.2.0 in c:\\users\\gbata\\anaconda3\\lib\\site-packages (from plotly==5.10.0) (8.0.1)\n"
     ]
    }
   ],
   "source": [
    "# Question 3: Logistic Regression\n",
    "!pip install -U pandas\n",
    "!pip install -U numpy\n",
    "!pip install -U plotly==5.10.0\n",
    "\n",
    "import pandas as pd\n",
    "import numpy as np\n",
    "import plotly.express as px\n",
    "import plotly.graph_objects as go\n",
    "import matplotlib.pyplot as plt\n",
    "\n",
    "x = np.genfromtxt('../data/q3/logisticX.csv', delimiter=',')\n",
    "y = np.genfromtxt('../data/q3/logisticY.csv', delimiter='\\n')\n",
    "\n",
    "y = np.reshape(y,(-1,1))"
   ]
  },
  {
   "cell_type": "code",
   "execution_count": 29,
   "id": "60371a33",
   "metadata": {},
   "outputs": [
    {
     "name": "stdout",
     "output_type": "stream",
     "text": [
      "2.6645352591003756e-17 1.0\n"
     ]
    }
   ],
   "source": [
    "# Normalize the data\n",
    "x = (x - x.mean()) / x.std()\n",
    "print(x.mean(), x.std())\n",
    "\n",
    "# Add intercept term to x\n",
    "x = np.append(np.ones((x.shape[0],1)),x,axis=1)\n",
    "\n",
    "# Num of examples and features (with intercept)\n",
    "m = x.shape[0]\n",
    "n = x.shape[1]"
   ]
  },
  {
   "cell_type": "code",
   "execution_count": 31,
   "id": "b2244dbe",
   "metadata": {},
   "outputs": [
    {
     "name": "stdout",
     "output_type": "stream",
     "text": [
      "The final Theta from Newton's Method = \n",
      " [[-0.00064394]\n",
      " [ 0.00921424]\n",
      " [-0.00898329]]\n"
     ]
    }
   ],
   "source": [
    "# Question 3.a - Implement Newton’s method\n",
    "\n",
    "# Initialize params\n",
    "theta = np.zeros((n, 1))\n",
    "\n",
    "# H(LL) = x.T*diag(o(x.theta)(1-o(x.theta)))*x\n",
    "d = x.dot(theta)\n",
    "prediction = (1/(1 + np.exp(-d)))\n",
    "I = np.identity(x.shape[0])\n",
    "diag = I * prediction.T.dot(1-prediction)\n",
    "H = x.T.dot(diag.dot(x))\n",
    "\n",
    "#Newton's Update Equation\n",
    "grad = np.dot(x.T, (prediction-y))\n",
    "t_final= theta - np.linalg.inv(H).dot(grad)\n",
    "print(\"The final Theta from Newton's Method = \\n\", t_final)\n"
   ]
  },
  {
   "cell_type": "code",
   "execution_count": 32,
   "id": "d3bbb3dc",
   "metadata": {},
   "outputs": [
    {
     "data": {
      "image/png": "[encoded data removed]",
      "text/plain": [
       "<Figure size 576x360 with 1 Axes>"
      ]
     },
     "metadata": {
      "needs_background": "light"
     },
     "output_type": "display_data"
    },
    {
     "data": {
      "text/plain": [
       "<Figure size 432x288 with 0 Axes>"
      ]
     },
     "metadata": {},
     "output_type": "display_data"
    }
   ],
   "source": [
    "#Code for Plotting the Decision Boundary\n",
    "i_x0=[i for i in range(len(y)) if y[i]==0]\n",
    "i_x1=[i for i in range(len(y)) if y[i]==1]\n",
    "x_val = np.array([np.min(x[:, 1] ), np.max(x[:, 1] )]).reshape(1,-1)\n",
    "y_val = (-1./t_final[2:3]).dot(t_final[1:2].dot(x_val)) - t_final[0:1]\n",
    "#Plot the training data with class labels\n",
    "plt.figure(figsize=(8,5))\n",
    "plt.scatter(x[i_x0][:,1], x[i_x0][:,2], c='r',label='Label=0')\n",
    "plt.scatter(x[i_x1][:,1], x[i_x1][:,2], c='b',label='Label=1')\n",
    "plt.plot(x_val.ravel(), y_val.ravel(), c='g')\n",
    "plt.legend()\n",
    "plt.show(block=False)\n",
    "plt.savefig('q3_b.png', dpi=1000, bbox_inches='tight')"
   ]
  },
  {
   "cell_type": "code",
   "execution_count": null,
   "id": "3ddc6bd0",
   "metadata": {},
   "outputs": [],
   "source": []
  }
 ],
 "metadata": {
  "kernelspec": {
   "display_name": "Python 3 (ipykernel)",
   "language": "python",
   "name": "python3"
  },
  "language_info": {
   "codemirror_mode": {
    "name": "ipython",
    "version": 3
   },
   "file_extension": ".py",
   "mimetype": "text/x-python",
   "name": "python",
   "nbconvert_exporter": "python",
   "pygments_lexer": "ipython3",
   "version": "3.9.12"
  }
 },
 "nbformat": 4,
 "nbformat_minor": 5
}
