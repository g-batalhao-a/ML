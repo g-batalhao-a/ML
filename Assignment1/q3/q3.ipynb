{
 "cells": [
  {
   "cell_type": "code",
   "execution_count": 12,
   "id": "0d48deb4",
   "metadata": {},
   "outputs": [
    {
     "name": "stdout",
     "output_type": "stream",
     "text": [
      "Requirement already satisfied: pandas in c:\\users\\gbata\\appdata\\local\\packages\\pythonsoftwarefoundation.python.3.10_qbz5n2kfra8p0\\localcache\\local-packages\\python310\\site-packages (1.4.4)\n",
      "Requirement already satisfied: numpy>=1.21.0 in c:\\users\\gbata\\appdata\\local\\packages\\pythonsoftwarefoundation.python.3.10_qbz5n2kfra8p0\\localcache\\local-packages\\python310\\site-packages (from pandas) (1.23.2)\n",
      "Requirement already satisfied: pytz>=2020.1 in c:\\users\\gbata\\appdata\\local\\packages\\pythonsoftwarefoundation.python.3.10_qbz5n2kfra8p0\\localcache\\local-packages\\python310\\site-packages (from pandas) (2022.2.1)\n",
      "Requirement already satisfied: python-dateutil>=2.8.1 in c:\\users\\gbata\\appdata\\local\\packages\\pythonsoftwarefoundation.python.3.10_qbz5n2kfra8p0\\localcache\\local-packages\\python310\\site-packages (from pandas) (2.8.2)\n",
      "Requirement already satisfied: six>=1.5 in c:\\users\\gbata\\appdata\\local\\packages\\pythonsoftwarefoundation.python.3.10_qbz5n2kfra8p0\\localcache\\local-packages\\python310\\site-packages (from python-dateutil>=2.8.1->pandas) (1.16.0)\n",
      "Requirement already satisfied: numpy in c:\\users\\gbata\\appdata\\local\\packages\\pythonsoftwarefoundation.python.3.10_qbz5n2kfra8p0\\localcache\\local-packages\\python310\\site-packages (1.23.2)\n",
      "Requirement already satisfied: plotly==5.10.0 in c:\\users\\gbata\\appdata\\local\\packages\\pythonsoftwarefoundation.python.3.10_qbz5n2kfra8p0\\localcache\\local-packages\\python310\\site-packages (5.10.0)\n",
      "Requirement already satisfied: tenacity>=6.2.0 in c:\\users\\gbata\\appdata\\local\\packages\\pythonsoftwarefoundation.python.3.10_qbz5n2kfra8p0\\localcache\\local-packages\\python310\\site-packages (from plotly==5.10.0) (8.0.1)\n"
     ]
    }
   ],
   "source": [
    "# Question 3: Logistic Regression\n",
    "!pip install -U pandas\n",
    "!pip install -U numpy\n",
    "!pip install -U plotly==5.10.0\n",
    "\n",
    "import pandas as pd\n",
    "import numpy as np\n",
    "import plotly.express as px\n",
    "import plotly.graph_objects as go\n",
    "import matplotlib.pyplot as plt\n",
    "\n",
    "x = np.genfromtxt('../data/q3/logisticX.csv', delimiter=',')\n",
    "y = np.genfromtxt('../data/q3/logisticY.csv', delimiter='\\n')\n",
    "\n",
    "y = np.reshape(y,(-1,1))"
   ]
  },
  {
   "cell_type": "code",
   "execution_count": 13,
   "id": "60371a33",
   "metadata": {},
   "outputs": [
    {
     "name": "stdout",
     "output_type": "stream",
     "text": [
      "2.708944180085382e-16 1.0\n"
     ]
    }
   ],
   "source": [
    "# Normalize the data\n",
    "x = (x - x.mean()) / x.std()\n",
    "print(x.mean(), x.std())\n",
    "\n",
    "# Add intercept term to x\n",
    "x = np.append(np.ones((x.shape[0],1)),x,axis=1)\n",
    "\n",
    "# Num of examples and features (with intercept)\n",
    "m = x.shape[0]\n",
    "n = x.shape[1]"
   ]
  },
  {
   "cell_type": "code",
   "execution_count": 26,
   "id": "b2244dbe",
   "metadata": {},
   "outputs": [
    {
     "name": "stdout",
     "output_type": "stream",
     "text": [
      "Theta from Newton's Method: [[-0.00064394]\n",
      " [ 0.00921424]\n",
      " [-0.00898329]]\n",
      "File written successfully\n"
     ]
    }
   ],
   "source": [
    "# Question 3.a - Implement Newton’s method\n",
    "\n",
    "# Initialize params\n",
    "theta = np.zeros((n, 1))\n",
    "\n",
    "# H(LL) = x.T*diag(o(x.theta)(1-o(x.theta)))*x\n",
    "d = x.dot(theta)\n",
    "def sigmoid(x):\n",
    "    return 1.0 / (1 + np.exp(-x))\n",
    "sig = sigmoid(d)\n",
    "diag = np.identity(x.shape[0]) * sig.T.dot(1-sig)\n",
    "H = x.T.dot(diag.dot(x))\n",
    "\n",
    "#Newton's Update Equation\n",
    "grad = x.T.dot((sig-y))\n",
    "t_final= theta - np.linalg.inv(H).dot(grad)\n",
    "print(f\"Theta from Newton's Method: {t_final}\")\n",
    "\n",
    "def predict(x, theta):\n",
    "    return sigmoid(x.dot(theta))\n",
    "\n",
    "predictions = predict(x, t_final)\n",
    "with open('results.txt', 'w+') as f:\n",
    "    for item in predictions:\n",
    "        if item[0] >= 0.5:\n",
    "            f.write('0\\n')\n",
    "        else:\n",
    "            f.write('1\\n')\n",
    "     \n",
    "    print(\"File written successfully\")\n"
   ]
  },
  {
   "cell_type": "code",
   "execution_count": 27,
   "id": "d3bbb3dc",
   "metadata": {},
   "outputs": [
    {
     "data": {
      "image/png": "[encoded data removed]",
      "text/plain": [
       "<Figure size 576x360 with 1 Axes>"
      ]
     },
     "metadata": {
      "needs_background": "light"
     },
     "output_type": "display_data"
    }
   ],
   "source": [
    "#Code for Plotting the Decision Boundary\n",
    "i_x0=[i for i in range(len(y)) if y[i]==0]\n",
    "i_x1=[i for i in range(len(y)) if y[i]==1]\n",
    "x_val = np.array([np.min(x[:, 1] ), np.max(x[:, 1] )]).reshape(1,-1)\n",
    "y_val = (-1./t_final[2:3]).dot(t_final[1:2].dot(x_val)) - t_final[:1]\n",
    "#Plot the training data with class labels\n",
    "plt.figure(figsize=(8,5))\n",
    "plt.scatter(x[i_x0][:,1], x[i_x0][:,2], c='r',label='Label 0')\n",
    "plt.scatter(x[i_x1][:,1], x[i_x1][:,2], c='b',label='Label 1')\n",
    "plt.plot(x_val.ravel(), y_val.ravel(), c='g')\n",
    "plt.legend()\n",
    "plt.savefig('q3_b.png', dpi=1000, bbox_inches='tight')\n",
    "plt.show(block=False)"
   ]
  },
  {
   "cell_type": "code",
   "execution_count": null,
   "id": "dae0189e",
   "metadata": {},
   "outputs": [],
   "source": []
  }
 ],
 "metadata": {
  "kernelspec": {
   "display_name": "Python 3.10.6 64-bit (microsoft store)",
   "language": "python",
   "name": "python3"
  },
  "language_info": {
   "codemirror_mode": {
    "name": "ipython",
    "version": 3
   },
   "file_extension": ".py",
   "mimetype": "text/x-python",
   "name": "python",
   "nbconvert_exporter": "python",
   "pygments_lexer": "ipython3",
   "version": "3.10.7"
  },
  "vscode": {
   "interpreter": {
    "hash": "a5d4af56a2e7987301107af7338a2f4c12a3584e52162a713fa580e431dd5f3e"
   }
  }
 },
 "nbformat": 4,
 "nbformat_minor": 5
}
