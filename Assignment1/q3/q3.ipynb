{
 "cells": [
  {
   "cell_type": "code",
   "execution_count": null,
   "id": "0d48deb4",
   "metadata": {},
   "outputs": [],
   "source": [
    "# Question 3: Logistic Regression\n",
    "!pip install -U pandas\n",
    "!pip install -U numpy\n",
    "!pip install -U plotly==5.10.0\n",
    "\n",
    "import pandas as pd\n",
    "import numpy as np\n",
    "import plotly.express as px\n",
    "import plotly.graph_objects as go\n",
    "import matplotlib.pyplot as plt\n",
    "\n",
    "x = np.genfromtxt('../data/q3/logisticX.csv', delimiter=',')\n",
    "y = np.genfromtxt('../data/q3/logisticY.csv', delimiter='\\n')\n",
    "\n",
    "y = np.reshape(y,(-1,1))"
   ]
  },
  {
   "cell_type": "code",
   "execution_count": null,
   "id": "60371a33",
   "metadata": {},
   "outputs": [],
   "source": [
    "# Normalize the data\n",
    "x = (x - x.mean()) / x.std()\n",
    "print(x.mean(), x.std())\n",
    "\n",
    "# Add intercept term to x\n",
    "x = np.append(np.ones((x.shape[0],1)),x,axis=1)\n",
    "\n",
    "# Num of examples and features (with intercept)\n",
    "m = x.shape[0]\n",
    "n = x.shape[1]"
   ]
  },
  {
   "cell_type": "code",
   "execution_count": null,
   "id": "b2244dbe",
   "metadata": {},
   "outputs": [],
   "source": [
    "# Question 3.a - Implement Newton’s method\n",
    "\n",
    "# Initialize params\n",
    "theta = np.zeros((n, 1))\n",
    "\n",
    "# H(LL) = x.T*diag(o(x.theta)(1-o(x.theta)))*x\n",
    "d = x.dot(theta)\n",
    "prediction = (1/(1 + np.exp(-d)))\n",
    "I = np.identity(x.shape[0])\n",
    "diag = I * prediction.T.dot(1-prediction)\n",
    "H = x.T.dot(diag.dot(x))\n",
    "\n",
    "#Newton's Update Equation\n",
    "grad = np.dot(x.T, (prediction-y))\n",
    "t_final= theta - np.linalg.inv(H).dot(grad)\n",
    "print(\"The final Theta from Newton's Method = \\n\", t_final)\n"
   ]
  },
  {
   "cell_type": "code",
   "execution_count": null,
   "id": "d3bbb3dc",
   "metadata": {},
   "outputs": [],
   "source": [
    "#Code for Plotting the Decision Boundary\n",
    "i_x0=[i for i in range(len(y)) if y[i]==0]\n",
    "i_x1=[i for i in range(len(y)) if y[i]==1]\n",
    "x_val = np.array([np.min(x[:, 1] ), np.max(x[:, 1] )]).reshape(1,-1)\n",
    "y_val = (-1./t_final[2:3]).dot(t_final[1:2].dot(x_val)) - t_final[0:1]\n",
    "#Plot the training data with class labels\n",
    "plt.figure(figsize=(8,5))\n",
    "plt.scatter(x[i_x0][:,1], x[i_x0][:,2], c='r',label='Label=0')\n",
    "plt.scatter(x[i_x1][:,1], x[i_x1][:,2], c='b',label='Label=1')\n",
    "plt.plot(x_val.ravel(), y_val.ravel(), c='g')\n",
    "plt.legend()\n",
    "plt.savefig('q3_b.png', dpi=1000, bbox_inches='tight')\n",
    "plt.show(block=False)"
   ]
  },
  {
   "cell_type": "code",
   "execution_count": null,
   "id": "3ddc6bd0",
   "metadata": {},
   "outputs": [],
   "source": []
  }
 ],
 "metadata": {
  "kernelspec": {
   "display_name": "Python 3.10.6 64-bit (microsoft store)",
   "language": "python",
   "name": "python3"
  },
  "language_info": {
   "codemirror_mode": {
    "name": "ipython",
    "version": 3
   },
   "file_extension": ".py",
   "mimetype": "text/x-python",
   "name": "python",
   "nbconvert_exporter": "python",
   "pygments_lexer": "ipython3",
   "version": "3.10.6"
  },
  "vscode": {
   "interpreter": {
    "hash": "a5d4af56a2e7987301107af7338a2f4c12a3584e52162a713fa580e431dd5f3e"
   }
  }
 },
 "nbformat": 4,
 "nbformat_minor": 5
}
