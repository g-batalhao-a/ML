{
 "cells": [
  {
   "cell_type": "code",
   "execution_count": null,
   "id": "724cd36a",
   "metadata": {},
   "outputs": [],
   "source": [
    "# Question 1: Gaussian Discrmimant Analysis\n",
    "!pip install -U pandas\n",
    "!pip install -U numpy\n",
    "!pip install -U plotly==5.10.0\n",
    "\n",
    "import pandas as pd\n",
    "import numpy as np\n",
    "import plotly.express as px\n",
    "import plotly.graph_objects as go\n",
    "import matplotlib.pyplot as plt\n",
    "\n",
    "x = np.loadtxt('../data/q4/q4x.dat')\n",
    "y = np.loadtxt('../data/q4/q4y.dat', dtype=str)\n",
    "\n",
    "y = np.reshape(y,(-1,1))"
   ]
  },
  {
   "cell_type": "code",
   "execution_count": null,
   "id": "cabe4ee0",
   "metadata": {},
   "outputs": [],
   "source": [
    "# Normalize the data\n",
    "x = (x - np.mean(x,axis=0).reshape(1,-1)) / np.std(x,axis=0).reshape(1,-1)\n",
    "\n",
    "# Num of examples\n",
    "m = x.shape[0]\n",
    "\n",
    "print(x.mean(), x.std())\n"
   ]
  },
  {
   "cell_type": "code",
   "execution_count": null,
   "id": "97e07976",
   "metadata": {},
   "outputs": [],
   "source": [
    "#GDA theta parameters\n",
    "y[y=='Alaska']=1\n",
    "y[y=='Canada']=0\n",
    "phi = np.sum([y=='1'])/m\n",
    "\n",
    "i_x0=[i for i in range(len(y)) if y[i]=='0']\n",
    "i_x1=[i for i in range(len(y)) if y[i]=='1']\n",
    "m_x0 = (np.mean(x[i_x0], axis=0)).reshape(1,-1)\n",
    "m_x1 = (np.mean(x[i_x1], axis=0)).reshape(1,-1)\n",
    "\n",
    "# Cov functio  with each class cov\n",
    "def cov(x, m_x0, m_x1, y):\n",
    "    c=np.zeros((2,2))\n",
    "    c0=np.zeros((2,2))\n",
    "    c1=np.zeros((2,2))\n",
    "    m = len(x)\n",
    "    even, odd = 0, 0\n",
    "    for i in range(m):\n",
    "        if(y[i]=='1'):\n",
    "            c1+=np.dot((x[i:i+1]-m_x1).T, (x[i:i+1]-m_x1))\n",
    "            even+=1\n",
    "        else:\n",
    "            c0+=np.dot((x[i:i+1]-m_x0).T, (x[i:i+1]-m_x0))\n",
    "            odd+=1\n",
    "    c=(c0+c1)/m\n",
    "    c0/=odd\n",
    "    c1/=even\n",
    "    return c, c0, c1\n",
    "\n",
    "cov, cov_0, cov_1 = cov(x, m_x0, m_x1, y)\n",
    "print(\"Probability PHI for class label='Alaska' is={}\".format(phi))\n",
    "print(\"Mean of the Distribution for label='Alaska' is={}\".format(m_x1))\n",
    "print(\"Mean of the Distribution for label='Canada' is={}\".format(m_x0))\n",
    "print(\"The value of the covariance matrix is = \\n{}\".format(cov))"
   ]
  },
  {
   "cell_type": "code",
   "execution_count": null,
   "id": "3b778e85",
   "metadata": {},
   "outputs": [],
   "source": [
    "#Question 1.b - Plot the training data\n",
    "fig = plt.figure(figsize=(15,10))\n",
    "plt.scatter(x[i_x0][:,0], x[i_x0][:,1], c='r',label='Canada')\n",
    "plt.scatter(x[i_x1][:,0], x[i_x1][:,1], c='b',label='Alaska')\n",
    "plt.legend()\n",
    "plt.savefig('q4_b.png', dpi=1000, bbox_inches='tight')\n",
    "plt.show(block=False)"
   ]
  },
  {
   "cell_type": "code",
   "execution_count": null,
   "id": "6ae681fa",
   "metadata": {},
   "outputs": [],
   "source": [
    "#Question 4.c - Describe the equation of the boundary\n",
    "\n",
    "#calculating linear model parameters\n",
    "cov_inv = np.linalg.inv(cov)\n",
    "c = (1/2)*((m_x1.dot(cov_inv)).dot(m_x1.T) - m_x0.dot(cov_inv).dot(m_x0.T))\n",
    "m = cov_inv.dot((m_x1-m_x0).T)\n",
    "x_val = np.array([np.min(x[:, 1] -1 ), np.max(x[:, 1] +1 )]).reshape(1,-1)\n",
    "y = (-1./m[0:1]).dot(m[1:2].dot(x_val)) - c\n",
    "\n",
    "\n",
    "fig = plt.figure(figsize=(15,10))\n",
    "plt.scatter(x[i_x0][:,0], x[i_x0][:,1], c='r',label='Canada')\n",
    "plt.scatter(x[i_x1][:,0], x[i_x1][:,1], c='b',label='Alaska')\n",
    "plt.plot(x_val.ravel(), y.ravel(), c='k',label='Decision Boundary')\n",
    "plt.legend()\n",
    "plt.savefig('q4_c.png', dpi=1000, bbox_inches='tight')\n",
    "plt.show(block=False)"
   ]
  },
  {
   "cell_type": "code",
   "execution_count": null,
   "id": "b2dec24f",
   "metadata": {},
   "outputs": [],
   "source": [
    "# Question 4.d - Report the values of the parameter estimates\n",
    "import math\n",
    "cov0_inv = np.linalg.inv(cov_0)\n",
    "cov1_inv = np.linalg.inv(cov_1)\n",
    "\n",
    "cov0_det = np.linalg.det(cov_0)\n",
    "cov1_det = np.linalg.det(cov_1)\n",
    "temp = math.log(phi/(1-phi))\n",
    "\n",
    "a = cov1_inv - cov0_inv\n",
    "b = 2* (cov1_inv.dot(m_x1.T) - cov0_inv.dot(m_x0.T))\n",
    "d = m_x1.dot(cov1_inv).dot(m_x1.T) - m_x0.dot(cov0_inv).dot(m_x0.T)- math.log(cov0_det/cov1_det)\n",
    "\n",
    "x1_val= np.linspace((np.min(x[:,1])-1), (np.max(x[:,1])+1), 100)\n",
    "c1 = a[1,1]\n",
    "x2_val = []\n",
    "for i in range(len(x1_val)):\n",
    "    temp2 = (a[0,0]*(x1_val[i]**2)) - (b[0,0]*x1_val[i]) + d[0,0]\n",
    "    temp3 = ((a[0,1]+a[1,0])*x1_val[i]) - b[1,0]\n",
    "    x2_val.append(np.roots([c1, temp3, temp2]))\n",
    "\n",
    "y_0= [(x2_val[i][0]) for i in range(len(x2_val))]\n",
    "y_1= [(x2_val[i][1]) for i in range(len(x2_val))]\n",
    "\n",
    "print(\"The value of the covariance matrix for label='Alaska' is = \\n{}\".format(cov_1))\n",
    "print(\"The value of the covariance matrix for label='Canada' is = \\n{}\".format(cov_0))\n",
    "print(\"The value of the mean for label='Alaska' is = \\n{}\".format(m_x0))\n",
    "print(\"The value of the mean for label='Canada' is = \\n{}\".format(m_x1))"
   ]
  },
  {
   "cell_type": "code",
   "execution_count": null,
   "id": "d195128b",
   "metadata": {},
   "outputs": [],
   "source": [
    "# Question 4.e - Describe the equation for the quadratic boundary\n",
    "\n",
    "fig = plt.figure(figsize=(15,10))\n",
    "plt.scatter(x[i_x0][:,0], x[i_x0][:,1], c='r',label='Canada')\n",
    "plt.scatter(x[i_x1][:,0], x[i_x1][:,1], c='b',label='Alaska')\n",
    "plt.plot(x_val.ravel(), y.ravel(), c='k',label='Decision Boundary')\n",
    "plt.scatter(x1_val,y_0, c='k',s=4,label='Quadratic Decision Boundary')\n",
    "plt.scatter(x1_val,y_1, c='k',s=4,label='Quadratic Decision Boundary')\n",
    "plt.legend()\n",
    "plt.savefig('q4_e.png', dpi=1000, bbox_inches='tight')\n",
    "plt.show(block=False)"
   ]
  },
  {
   "cell_type": "code",
   "execution_count": null,
   "id": "82fa2116",
   "metadata": {},
   "outputs": [],
   "source": []
  }
 ],
 "metadata": {
  "kernelspec": {
   "display_name": "Python 3.10.6 64-bit (microsoft store)",
   "language": "python",
   "name": "python3"
  },
  "language_info": {
   "codemirror_mode": {
    "name": "ipython",
    "version": 3
   },
   "file_extension": ".py",
   "mimetype": "text/x-python",
   "name": "python",
   "nbconvert_exporter": "python",
   "pygments_lexer": "ipython3",
   "version": "3.10.6"
  },
  "vscode": {
   "interpreter": {
    "hash": "a5d4af56a2e7987301107af7338a2f4c12a3584e52162a713fa580e431dd5f3e"
   }
  }
 },
 "nbformat": 4,
 "nbformat_minor": 5
}
