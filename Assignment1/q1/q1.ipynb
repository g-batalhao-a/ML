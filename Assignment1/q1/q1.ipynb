{
 "cells": [
  {
   "cell_type": "code",
   "execution_count": 1,
   "metadata": {},
   "outputs": [
    {
     "name": "stdout",
     "output_type": "stream",
     "text": [
      "Requirement already satisfied: pandas in c:\\users\\gbata\\appdata\\local\\packages\\pythonsoftwarefoundation.python.3.10_qbz5n2kfra8p0\\localcache\\local-packages\\python310\\site-packages (1.4.4)\n",
      "Requirement already satisfied: numpy>=1.21.0 in c:\\users\\gbata\\appdata\\local\\packages\\pythonsoftwarefoundation.python.3.10_qbz5n2kfra8p0\\localcache\\local-packages\\python310\\site-packages (from pandas) (1.23.2)\n",
      "Requirement already satisfied: python-dateutil>=2.8.1 in c:\\users\\gbata\\appdata\\local\\packages\\pythonsoftwarefoundation.python.3.10_qbz5n2kfra8p0\\localcache\\local-packages\\python310\\site-packages (from pandas) (2.8.2)\n",
      "Requirement already satisfied: pytz>=2020.1 in c:\\users\\gbata\\appdata\\local\\packages\\pythonsoftwarefoundation.python.3.10_qbz5n2kfra8p0\\localcache\\local-packages\\python310\\site-packages (from pandas) (2022.2.1)\n",
      "Requirement already satisfied: six>=1.5 in c:\\users\\gbata\\appdata\\local\\packages\\pythonsoftwarefoundation.python.3.10_qbz5n2kfra8p0\\localcache\\local-packages\\python310\\site-packages (from python-dateutil>=2.8.1->pandas) (1.16.0)\n",
      "Requirement already satisfied: numpy in c:\\users\\gbata\\appdata\\local\\packages\\pythonsoftwarefoundation.python.3.10_qbz5n2kfra8p0\\localcache\\local-packages\\python310\\site-packages (1.23.2)\n",
      "Requirement already satisfied: plotly==5.10.0 in c:\\users\\gbata\\appdata\\local\\packages\\pythonsoftwarefoundation.python.3.10_qbz5n2kfra8p0\\localcache\\local-packages\\python310\\site-packages (5.10.0)\n",
      "Requirement already satisfied: tenacity>=6.2.0 in c:\\users\\gbata\\appdata\\local\\packages\\pythonsoftwarefoundation.python.3.10_qbz5n2kfra8p0\\localcache\\local-packages\\python310\\site-packages (from plotly==5.10.0) (8.0.1)\n"
     ]
    }
   ],
   "source": [
    "# Question 1: Linear Regression\n",
    "!pip install -U pandas\n",
    "!pip install -U numpy\n",
    "!pip install -U plotly==5.10.0\n",
    "\n",
    "import pandas as pd\n",
    "import numpy as np\n",
    "import plotly.express as px\n",
    "import plotly.graph_objects as go\n",
    "import matplotlib.pyplot as plt\n",
    "\n",
    "x = np.genfromtxt('../data/q1/linearX.csv', delimiter='\\n')\n",
    "y = np.genfromtxt('../data/q1/linearY.csv', delimiter='\\n')\n",
    "\n",
    "x = np.reshape(x,(-1,1))\n",
    "y = np.reshape(y,(-1,1))"
   ]
  },
  {
   "cell_type": "code",
   "execution_count": 2,
   "metadata": {},
   "outputs": [
    {
     "data": {
      "text/plain": [
       "(100, 1)"
      ]
     },
     "execution_count": 2,
     "metadata": {},
     "output_type": "execute_result"
    }
   ],
   "source": [
    "x.shape"
   ]
  },
  {
   "cell_type": "code",
   "execution_count": 3,
   "metadata": {},
   "outputs": [
    {
     "data": {
      "text/plain": [
       "(100, 1)"
      ]
     },
     "execution_count": 3,
     "metadata": {},
     "output_type": "execute_result"
    }
   ],
   "source": [
    "y.shape"
   ]
  },
  {
   "cell_type": "code",
   "execution_count": 4,
   "metadata": {},
   "outputs": [
    {
     "data": {
      "application/vnd.plotly.v1+json": {
       "config": {
        "plotlyServerURL": "https://plot.ly"
       },
       "data": [
        {
         "hovertemplate": "x=%{x}<br>index=%{y}<extra></extra>",
         "legendgroup": "",
         "marker": {
          "color": "#636efa",
          "symbol": "circle"
         },
         "mode": "markers",
         "name": "",
         "orientation": "h",
         "showlegend": false,
         "type": "scatter",
         "x": [
          0.99523,
          0.99007,
          0.99769,
          0.99386,
          0.99508,
          0.9963,
          1.0032,
          0.99768,
          0.99584,
          0.99609,
          0.99774,
          1.0003,
          0.99694,
          0.99965,
          0.99549,
          0.99364,
          0.99378,
          0.99379,
          0.99524,
          0.9988,
          0.99733,
          0.9966,
          0.9955,
          0.99471,
          0.99354,
          0.99786,
          0.9965,
          0.9988,
          0.9964,
          0.99713,
          0.9985,
          0.99565,
          0.99578,
          0.9976,
          1.0014,
          0.99685,
          0.99648,
          0.99472,
          0.99914,
          0.99408,
          0.9974,
          1.0002,
          0.99402,
          0.9966,
          0.99402,
          1.0029,
          0.99718,
          0.9986,
          0.9952,
          0.9952,
          0.9972,
          0.9976,
          0.9968,
          0.9978,
          0.9951,
          0.99629,
          0.99656,
          0.999,
          0.99836,
          0.99396,
          0.99387,
          1.0004,
          0.9972,
          0.9972,
          0.99546,
          0.9978,
          0.99596,
          0.99572,
          0.9992,
          0.99544,
          0.99747,
          0.99668,
          0.9962,
          0.99346,
          0.99514,
          0.99476,
          1.001,
          0.9961,
          0.99598,
          0.99608,
          0.9966,
          0.99732,
          0.9962,
          0.99546,
          0.99738,
          0.99456,
          0.9966,
          0.99553,
          0.9984,
          0.9952,
          0.997,
          0.99586,
          0.9984,
          0.99542,
          0.99655,
          0.9962,
          0.9976,
          0.99464,
          0.9983,
          0.9967
         ],
         "xaxis": "x",
         "y": [
          0,
          1,
          2,
          3,
          4,
          5,
          6,
          7,
          8,
          9,
          10,
          11,
          12,
          13,
          14,
          15,
          16,
          17,
          18,
          19,
          20,
          21,
          22,
          23,
          24,
          25,
          26,
          27,
          28,
          29,
          30,
          31,
          32,
          33,
          34,
          35,
          36,
          37,
          38,
          39,
          40,
          41,
          42,
          43,
          44,
          45,
          46,
          47,
          48,
          49,
          50,
          51,
          52,
          53,
          54,
          55,
          56,
          57,
          58,
          59,
          60,
          61,
          62,
          63,
          64,
          65,
          66,
          67,
          68,
          69,
          70,
          71,
          72,
          73,
          74,
          75,
          76,
          77,
          78,
          79,
          80,
          81,
          82,
          83,
          84,
          85,
          86,
          87,
          88,
          89,
          90,
          91,
          92,
          93,
          94,
          95,
          96,
          97,
          98,
          99
         ],
         "yaxis": "y"
        }
       ],
       "layout": {
        "legend": {
         "tracegroupgap": 0
        },
        "margin": {
         "t": 60
        },
        "template": {
         "data": {
          "bar": [
           {
            "error_x": {
             "color": "#2a3f5f"
            },
            "error_y": {
             "color": "#2a3f5f"
            },
            "marker": {
             "line": {
              "color": "#E5ECF6",
              "width": 0.5
             },
             "pattern": {
              "fillmode": "overlay",
              "size": 10,
              "solidity": 0.2
             }
            },
            "type": "bar"
           }
          ],
          "barpolar": [
           {
            "marker": {
             "line": {
              "color": "#E5ECF6",
              "width": 0.5
             },
             "pattern": {
              "fillmode": "overlay",
              "size": 10,
              "solidity": 0.2
             }
            },
            "type": "barpolar"
           }
          ],
          "carpet": [
           {
            "aaxis": {
             "endlinecolor": "#2a3f5f",
             "gridcolor": "white",
             "linecolor": "white",
             "minorgridcolor": "white",
             "startlinecolor": "#2a3f5f"
            },
            "baxis": {
             "endlinecolor": "#2a3f5f",
             "gridcolor": "white",
             "linecolor": "white",
             "minorgridcolor": "white",
             "startlinecolor": "#2a3f5f"
            },
            "type": "carpet"
           }
          ],
          "choropleth": [
           {
            "colorbar": {
             "outlinewidth": 0,
             "ticks": ""
            },
            "type": "choropleth"
           }
          ],
          "contour": [
           {
            "colorbar": {
             "outlinewidth": 0,
             "ticks": ""
            },
            "colorscale": [
             [
              0,
              "#0d0887"
             ],
             [
              0.1111111111111111,
              "#46039f"
             ],
             [
              0.2222222222222222,
              "#7201a8"
             ],
             [
              0.3333333333333333,
              "#9c179e"
             ],
             [
              0.4444444444444444,
              "#bd3786"
             ],
             [
              0.5555555555555556,
              "#d8576b"
             ],
             [
              0.6666666666666666,
              "#ed7953"
             ],
             [
              0.7777777777777778,
              "#fb9f3a"
             ],
             [
              0.8888888888888888,
              "#fdca26"
             ],
             [
              1,
              "#f0f921"
             ]
            ],
            "type": "contour"
           }
          ],
          "contourcarpet": [
           {
            "colorbar": {
             "outlinewidth": 0,
             "ticks": ""
            },
            "type": "contourcarpet"
           }
          ],
          "heatmap": [
           {
            "colorbar": {
             "outlinewidth": 0,
             "ticks": ""
            },
            "colorscale": [
             [
              0,
              "#0d0887"
             ],
             [
              0.1111111111111111,
              "#46039f"
             ],
             [
              0.2222222222222222,
              "#7201a8"
             ],
             [
              0.3333333333333333,
              "#9c179e"
             ],
             [
              0.4444444444444444,
              "#bd3786"
             ],
             [
              0.5555555555555556,
              "#d8576b"
             ],
             [
              0.6666666666666666,
              "#ed7953"
             ],
             [
              0.7777777777777778,
              "#fb9f3a"
             ],
             [
              0.8888888888888888,
              "#fdca26"
             ],
             [
              1,
              "#f0f921"
             ]
            ],
            "type": "heatmap"
           }
          ],
          "heatmapgl": [
           {
            "colorbar": {
             "outlinewidth": 0,
             "ticks": ""
            },
            "colorscale": [
             [
              0,
              "#0d0887"
             ],
             [
              0.1111111111111111,
              "#46039f"
             ],
             [
              0.2222222222222222,
              "#7201a8"
             ],
             [
              0.3333333333333333,
              "#9c179e"
             ],
             [
              0.4444444444444444,
              "#bd3786"
             ],
             [
              0.5555555555555556,
              "#d8576b"
             ],
             [
              0.6666666666666666,
              "#ed7953"
             ],
             [
              0.7777777777777778,
              "#fb9f3a"
             ],
             [
              0.8888888888888888,
              "#fdca26"
             ],
             [
              1,
              "#f0f921"
             ]
            ],
            "type": "heatmapgl"
           }
          ],
          "histogram": [
           {
            "marker": {
             "pattern": {
              "fillmode": "overlay",
              "size": 10,
              "solidity": 0.2
             }
            },
            "type": "histogram"
           }
          ],
          "histogram2d": [
           {
            "colorbar": {
             "outlinewidth": 0,
             "ticks": ""
            },
            "colorscale": [
             [
              0,
              "#0d0887"
             ],
             [
              0.1111111111111111,
              "#46039f"
             ],
             [
              0.2222222222222222,
              "#7201a8"
             ],
             [
              0.3333333333333333,
              "#9c179e"
             ],
             [
              0.4444444444444444,
              "#bd3786"
             ],
             [
              0.5555555555555556,
              "#d8576b"
             ],
             [
              0.6666666666666666,
              "#ed7953"
             ],
             [
              0.7777777777777778,
              "#fb9f3a"
             ],
             [
              0.8888888888888888,
              "#fdca26"
             ],
             [
              1,
              "#f0f921"
             ]
            ],
            "type": "histogram2d"
           }
          ],
          "histogram2dcontour": [
           {
            "colorbar": {
             "outlinewidth": 0,
             "ticks": ""
            },
            "colorscale": [
             [
              0,
              "#0d0887"
             ],
             [
              0.1111111111111111,
              "#46039f"
             ],
             [
              0.2222222222222222,
              "#7201a8"
             ],
             [
              0.3333333333333333,
              "#9c179e"
             ],
             [
              0.4444444444444444,
              "#bd3786"
             ],
             [
              0.5555555555555556,
              "#d8576b"
             ],
             [
              0.6666666666666666,
              "#ed7953"
             ],
             [
              0.7777777777777778,
              "#fb9f3a"
             ],
             [
              0.8888888888888888,
              "#fdca26"
             ],
             [
              1,
              "#f0f921"
             ]
            ],
            "type": "histogram2dcontour"
           }
          ],
          "mesh3d": [
           {
            "colorbar": {
             "outlinewidth": 0,
             "ticks": ""
            },
            "type": "mesh3d"
           }
          ],
          "parcoords": [
           {
            "line": {
             "colorbar": {
              "outlinewidth": 0,
              "ticks": ""
             }
            },
            "type": "parcoords"
           }
          ],
          "pie": [
           {
            "automargin": true,
            "type": "pie"
           }
          ],
          "scatter": [
           {
            "fillpattern": {
             "fillmode": "overlay",
             "size": 10,
             "solidity": 0.2
            },
            "type": "scatter"
           }
          ],
          "scatter3d": [
           {
            "line": {
             "colorbar": {
              "outlinewidth": 0,
              "ticks": ""
             }
            },
            "marker": {
             "colorbar": {
              "outlinewidth": 0,
              "ticks": ""
             }
            },
            "type": "scatter3d"
           }
          ],
          "scattercarpet": [
           {
            "marker": {
             "colorbar": {
              "outlinewidth": 0,
              "ticks": ""
             }
            },
            "type": "scattercarpet"
           }
          ],
          "scattergeo": [
           {
            "marker": {
             "colorbar": {
              "outlinewidth": 0,
              "ticks": ""
             }
            },
            "type": "scattergeo"
           }
          ],
          "scattergl": [
           {
            "marker": {
             "colorbar": {
              "outlinewidth": 0,
              "ticks": ""
             }
            },
            "type": "scattergl"
           }
          ],
          "scattermapbox": [
           {
            "marker": {
             "colorbar": {
              "outlinewidth": 0,
              "ticks": ""
             }
            },
            "type": "scattermapbox"
           }
          ],
          "scatterpolar": [
           {
            "marker": {
             "colorbar": {
              "outlinewidth": 0,
              "ticks": ""
             }
            },
            "type": "scatterpolar"
           }
          ],
          "scatterpolargl": [
           {
            "marker": {
             "colorbar": {
              "outlinewidth": 0,
              "ticks": ""
             }
            },
            "type": "scatterpolargl"
           }
          ],
          "scatterternary": [
           {
            "marker": {
             "colorbar": {
              "outlinewidth": 0,
              "ticks": ""
             }
            },
            "type": "scatterternary"
           }
          ],
          "surface": [
           {
            "colorbar": {
             "outlinewidth": 0,
             "ticks": ""
            },
            "colorscale": [
             [
              0,
              "#0d0887"
             ],
             [
              0.1111111111111111,
              "#46039f"
             ],
             [
              0.2222222222222222,
              "#7201a8"
             ],
             [
              0.3333333333333333,
              "#9c179e"
             ],
             [
              0.4444444444444444,
              "#bd3786"
             ],
             [
              0.5555555555555556,
              "#d8576b"
             ],
             [
              0.6666666666666666,
              "#ed7953"
             ],
             [
              0.7777777777777778,
              "#fb9f3a"
             ],
             [
              0.8888888888888888,
              "#fdca26"
             ],
             [
              1,
              "#f0f921"
             ]
            ],
            "type": "surface"
           }
          ],
          "table": [
           {
            "cells": {
             "fill": {
              "color": "#EBF0F8"
             },
             "line": {
              "color": "white"
             }
            },
            "header": {
             "fill": {
              "color": "#C8D4E3"
             },
             "line": {
              "color": "white"
             }
            },
            "type": "table"
           }
          ]
         },
         "layout": {
          "annotationdefaults": {
           "arrowcolor": "#2a3f5f",
           "arrowhead": 0,
           "arrowwidth": 1
          },
          "autotypenumbers": "strict",
          "coloraxis": {
           "colorbar": {
            "outlinewidth": 0,
            "ticks": ""
           }
          },
          "colorscale": {
           "diverging": [
            [
             0,
             "#8e0152"
            ],
            [
             0.1,
             "#c51b7d"
            ],
            [
             0.2,
             "#de77ae"
            ],
            [
             0.3,
             "#f1b6da"
            ],
            [
             0.4,
             "#fde0ef"
            ],
            [
             0.5,
             "#f7f7f7"
            ],
            [
             0.6,
             "#e6f5d0"
            ],
            [
             0.7,
             "#b8e186"
            ],
            [
             0.8,
             "#7fbc41"
            ],
            [
             0.9,
             "#4d9221"
            ],
            [
             1,
             "#276419"
            ]
           ],
           "sequential": [
            [
             0,
             "#0d0887"
            ],
            [
             0.1111111111111111,
             "#46039f"
            ],
            [
             0.2222222222222222,
             "#7201a8"
            ],
            [
             0.3333333333333333,
             "#9c179e"
            ],
            [
             0.4444444444444444,
             "#bd3786"
            ],
            [
             0.5555555555555556,
             "#d8576b"
            ],
            [
             0.6666666666666666,
             "#ed7953"
            ],
            [
             0.7777777777777778,
             "#fb9f3a"
            ],
            [
             0.8888888888888888,
             "#fdca26"
            ],
            [
             1,
             "#f0f921"
            ]
           ],
           "sequentialminus": [
            [
             0,
             "#0d0887"
            ],
            [
             0.1111111111111111,
             "#46039f"
            ],
            [
             0.2222222222222222,
             "#7201a8"
            ],
            [
             0.3333333333333333,
             "#9c179e"
            ],
            [
             0.4444444444444444,
             "#bd3786"
            ],
            [
             0.5555555555555556,
             "#d8576b"
            ],
            [
             0.6666666666666666,
             "#ed7953"
            ],
            [
             0.7777777777777778,
             "#fb9f3a"
            ],
            [
             0.8888888888888888,
             "#fdca26"
            ],
            [
             1,
             "#f0f921"
            ]
           ]
          },
          "colorway": [
           "#636efa",
           "#EF553B",
           "#00cc96",
           "#ab63fa",
           "#FFA15A",
           "#19d3f3",
           "#FF6692",
           "#B6E880",
           "#FF97FF",
           "#FECB52"
          ],
          "font": {
           "color": "#2a3f5f"
          },
          "geo": {
           "bgcolor": "white",
           "lakecolor": "white",
           "landcolor": "#E5ECF6",
           "showlakes": true,
           "showland": true,
           "subunitcolor": "white"
          },
          "hoverlabel": {
           "align": "left"
          },
          "hovermode": "closest",
          "mapbox": {
           "style": "light"
          },
          "paper_bgcolor": "white",
          "plot_bgcolor": "#E5ECF6",
          "polar": {
           "angularaxis": {
            "gridcolor": "white",
            "linecolor": "white",
            "ticks": ""
           },
           "bgcolor": "#E5ECF6",
           "radialaxis": {
            "gridcolor": "white",
            "linecolor": "white",
            "ticks": ""
           }
          },
          "scene": {
           "xaxis": {
            "backgroundcolor": "#E5ECF6",
            "gridcolor": "white",
            "gridwidth": 2,
            "linecolor": "white",
            "showbackground": true,
            "ticks": "",
            "zerolinecolor": "white"
           },
           "yaxis": {
            "backgroundcolor": "#E5ECF6",
            "gridcolor": "white",
            "gridwidth": 2,
            "linecolor": "white",
            "showbackground": true,
            "ticks": "",
            "zerolinecolor": "white"
           },
           "zaxis": {
            "backgroundcolor": "#E5ECF6",
            "gridcolor": "white",
            "gridwidth": 2,
            "linecolor": "white",
            "showbackground": true,
            "ticks": "",
            "zerolinecolor": "white"
           }
          },
          "shapedefaults": {
           "line": {
            "color": "#2a3f5f"
           }
          },
          "ternary": {
           "aaxis": {
            "gridcolor": "white",
            "linecolor": "white",
            "ticks": ""
           },
           "baxis": {
            "gridcolor": "white",
            "linecolor": "white",
            "ticks": ""
           },
           "bgcolor": "#E5ECF6",
           "caxis": {
            "gridcolor": "white",
            "linecolor": "white",
            "ticks": ""
           }
          },
          "title": {
           "x": 0.05
          },
          "xaxis": {
           "automargin": true,
           "gridcolor": "white",
           "linecolor": "white",
           "ticks": "",
           "title": {
            "standoff": 15
           },
           "zerolinecolor": "white",
           "zerolinewidth": 2
          },
          "yaxis": {
           "automargin": true,
           "gridcolor": "white",
           "linecolor": "white",
           "ticks": "",
           "title": {
            "standoff": 15
           },
           "zerolinecolor": "white",
           "zerolinewidth": 2
          }
         }
        },
        "xaxis": {
         "anchor": "y",
         "domain": [
          0,
          1
         ],
         "title": {
          "text": "x"
         }
        },
        "yaxis": {
         "anchor": "x",
         "domain": [
          0,
          1
         ],
         "title": {
          "text": "index"
         }
        }
       }
      }
     },
     "metadata": {},
     "output_type": "display_data"
    }
   ],
   "source": [
    "# Visualize data\n",
    "fig = px.scatter(x[:,0],y[:,0])\n",
    "fig.show()"
   ]
  },
  {
   "cell_type": "code",
   "execution_count": 5,
   "metadata": {},
   "outputs": [
    {
     "name": "stdout",
     "output_type": "stream",
     "text": [
      "8.062 1.723123907326458\n",
      "3.508304757815495e-16 1.0\n"
     ]
    },
    {
     "data": {
      "application/vnd.plotly.v1+json": {
       "config": {
        "plotlyServerURL": "https://plot.ly"
       },
       "data": [
        {
         "hovertemplate": "x=%{x}<br>index=%{y}<extra></extra>",
         "legendgroup": "",
         "marker": {
          "color": "#636efa",
          "symbol": "circle"
         },
         "mode": "markers",
         "name": "",
         "orientation": "h",
         "showlegend": false,
         "type": "scatter",
         "x": [
          0.99523,
          0.99007,
          0.99769,
          0.99386,
          0.99508,
          0.9963,
          1.0032,
          0.99768,
          0.99584,
          0.99609,
          0.99774,
          1.0003,
          0.99694,
          0.99965,
          0.99549,
          0.99364,
          0.99378,
          0.99379,
          0.99524,
          0.9988,
          0.99733,
          0.9966,
          0.9955,
          0.99471,
          0.99354,
          0.99786,
          0.9965,
          0.9988,
          0.9964,
          0.99713,
          0.9985,
          0.99565,
          0.99578,
          0.9976,
          1.0014,
          0.99685,
          0.99648,
          0.99472,
          0.99914,
          0.99408,
          0.9974,
          1.0002,
          0.99402,
          0.9966,
          0.99402,
          1.0029,
          0.99718,
          0.9986,
          0.9952,
          0.9952,
          0.9972,
          0.9976,
          0.9968,
          0.9978,
          0.9951,
          0.99629,
          0.99656,
          0.999,
          0.99836,
          0.99396,
          0.99387,
          1.0004,
          0.9972,
          0.9972,
          0.99546,
          0.9978,
          0.99596,
          0.99572,
          0.9992,
          0.99544,
          0.99747,
          0.99668,
          0.9962,
          0.99346,
          0.99514,
          0.99476,
          1.001,
          0.9961,
          0.99598,
          0.99608,
          0.9966,
          0.99732,
          0.9962,
          0.99546,
          0.99738,
          0.99456,
          0.9966,
          0.99553,
          0.9984,
          0.9952,
          0.997,
          0.99586,
          0.9984,
          0.99542,
          0.99655,
          0.9962,
          0.9976,
          0.99464,
          0.9983,
          0.9967
         ],
         "xaxis": "x",
         "y": [
          0,
          1,
          2,
          3,
          4,
          5,
          6,
          7,
          8,
          9,
          10,
          11,
          12,
          13,
          14,
          15,
          16,
          17,
          18,
          19,
          20,
          21,
          22,
          23,
          24,
          25,
          26,
          27,
          28,
          29,
          30,
          31,
          32,
          33,
          34,
          35,
          36,
          37,
          38,
          39,
          40,
          41,
          42,
          43,
          44,
          45,
          46,
          47,
          48,
          49,
          50,
          51,
          52,
          53,
          54,
          55,
          56,
          57,
          58,
          59,
          60,
          61,
          62,
          63,
          64,
          65,
          66,
          67,
          68,
          69,
          70,
          71,
          72,
          73,
          74,
          75,
          76,
          77,
          78,
          79,
          80,
          81,
          82,
          83,
          84,
          85,
          86,
          87,
          88,
          89,
          90,
          91,
          92,
          93,
          94,
          95,
          96,
          97,
          98,
          99
         ],
         "yaxis": "y"
        }
       ],
       "layout": {
        "legend": {
         "tracegroupgap": 0
        },
        "margin": {
         "t": 60
        },
        "template": {
         "data": {
          "bar": [
           {
            "error_x": {
             "color": "#2a3f5f"
            },
            "error_y": {
             "color": "#2a3f5f"
            },
            "marker": {
             "line": {
              "color": "#E5ECF6",
              "width": 0.5
             },
             "pattern": {
              "fillmode": "overlay",
              "size": 10,
              "solidity": 0.2
             }
            },
            "type": "bar"
           }
          ],
          "barpolar": [
           {
            "marker": {
             "line": {
              "color": "#E5ECF6",
              "width": 0.5
             },
             "pattern": {
              "fillmode": "overlay",
              "size": 10,
              "solidity": 0.2
             }
            },
            "type": "barpolar"
           }
          ],
          "carpet": [
           {
            "aaxis": {
             "endlinecolor": "#2a3f5f",
             "gridcolor": "white",
             "linecolor": "white",
             "minorgridcolor": "white",
             "startlinecolor": "#2a3f5f"
            },
            "baxis": {
             "endlinecolor": "#2a3f5f",
             "gridcolor": "white",
             "linecolor": "white",
             "minorgridcolor": "white",
             "startlinecolor": "#2a3f5f"
            },
            "type": "carpet"
           }
          ],
          "choropleth": [
           {
            "colorbar": {
             "outlinewidth": 0,
             "ticks": ""
            },
            "type": "choropleth"
           }
          ],
          "contour": [
           {
            "colorbar": {
             "outlinewidth": 0,
             "ticks": ""
            },
            "colorscale": [
             [
              0,
              "#0d0887"
             ],
             [
              0.1111111111111111,
              "#46039f"
             ],
             [
              0.2222222222222222,
              "#7201a8"
             ],
             [
              0.3333333333333333,
              "#9c179e"
             ],
             [
              0.4444444444444444,
              "#bd3786"
             ],
             [
              0.5555555555555556,
              "#d8576b"
             ],
             [
              0.6666666666666666,
              "#ed7953"
             ],
             [
              0.7777777777777778,
              "#fb9f3a"
             ],
             [
              0.8888888888888888,
              "#fdca26"
             ],
             [
              1,
              "#f0f921"
             ]
            ],
            "type": "contour"
           }
          ],
          "contourcarpet": [
           {
            "colorbar": {
             "outlinewidth": 0,
             "ticks": ""
            },
            "type": "contourcarpet"
           }
          ],
          "heatmap": [
           {
            "colorbar": {
             "outlinewidth": 0,
             "ticks": ""
            },
            "colorscale": [
             [
              0,
              "#0d0887"
             ],
             [
              0.1111111111111111,
              "#46039f"
             ],
             [
              0.2222222222222222,
              "#7201a8"
             ],
             [
              0.3333333333333333,
              "#9c179e"
             ],
             [
              0.4444444444444444,
              "#bd3786"
             ],
             [
              0.5555555555555556,
              "#d8576b"
             ],
             [
              0.6666666666666666,
              "#ed7953"
             ],
             [
              0.7777777777777778,
              "#fb9f3a"
             ],
             [
              0.8888888888888888,
              "#fdca26"
             ],
             [
              1,
              "#f0f921"
             ]
            ],
            "type": "heatmap"
           }
          ],
          "heatmapgl": [
           {
            "colorbar": {
             "outlinewidth": 0,
             "ticks": ""
            },
            "colorscale": [
             [
              0,
              "#0d0887"
             ],
             [
              0.1111111111111111,
              "#46039f"
             ],
             [
              0.2222222222222222,
              "#7201a8"
             ],
             [
              0.3333333333333333,
              "#9c179e"
             ],
             [
              0.4444444444444444,
              "#bd3786"
             ],
             [
              0.5555555555555556,
              "#d8576b"
             ],
             [
              0.6666666666666666,
              "#ed7953"
             ],
             [
              0.7777777777777778,
              "#fb9f3a"
             ],
             [
              0.8888888888888888,
              "#fdca26"
             ],
             [
              1,
              "#f0f921"
             ]
            ],
            "type": "heatmapgl"
           }
          ],
          "histogram": [
           {
            "marker": {
             "pattern": {
              "fillmode": "overlay",
              "size": 10,
              "solidity": 0.2
             }
            },
            "type": "histogram"
           }
          ],
          "histogram2d": [
           {
            "colorbar": {
             "outlinewidth": 0,
             "ticks": ""
            },
            "colorscale": [
             [
              0,
              "#0d0887"
             ],
             [
              0.1111111111111111,
              "#46039f"
             ],
             [
              0.2222222222222222,
              "#7201a8"
             ],
             [
              0.3333333333333333,
              "#9c179e"
             ],
             [
              0.4444444444444444,
              "#bd3786"
             ],
             [
              0.5555555555555556,
              "#d8576b"
             ],
             [
              0.6666666666666666,
              "#ed7953"
             ],
             [
              0.7777777777777778,
              "#fb9f3a"
             ],
             [
              0.8888888888888888,
              "#fdca26"
             ],
             [
              1,
              "#f0f921"
             ]
            ],
            "type": "histogram2d"
           }
          ],
          "histogram2dcontour": [
           {
            "colorbar": {
             "outlinewidth": 0,
             "ticks": ""
            },
            "colorscale": [
             [
              0,
              "#0d0887"
             ],
             [
              0.1111111111111111,
              "#46039f"
             ],
             [
              0.2222222222222222,
              "#7201a8"
             ],
             [
              0.3333333333333333,
              "#9c179e"
             ],
             [
              0.4444444444444444,
              "#bd3786"
             ],
             [
              0.5555555555555556,
              "#d8576b"
             ],
             [
              0.6666666666666666,
              "#ed7953"
             ],
             [
              0.7777777777777778,
              "#fb9f3a"
             ],
             [
              0.8888888888888888,
              "#fdca26"
             ],
             [
              1,
              "#f0f921"
             ]
            ],
            "type": "histogram2dcontour"
           }
          ],
          "mesh3d": [
           {
            "colorbar": {
             "outlinewidth": 0,
             "ticks": ""
            },
            "type": "mesh3d"
           }
          ],
          "parcoords": [
           {
            "line": {
             "colorbar": {
              "outlinewidth": 0,
              "ticks": ""
             }
            },
            "type": "parcoords"
           }
          ],
          "pie": [
           {
            "automargin": true,
            "type": "pie"
           }
          ],
          "scatter": [
           {
            "fillpattern": {
             "fillmode": "overlay",
             "size": 10,
             "solidity": 0.2
            },
            "type": "scatter"
           }
          ],
          "scatter3d": [
           {
            "line": {
             "colorbar": {
              "outlinewidth": 0,
              "ticks": ""
             }
            },
            "marker": {
             "colorbar": {
              "outlinewidth": 0,
              "ticks": ""
             }
            },
            "type": "scatter3d"
           }
          ],
          "scattercarpet": [
           {
            "marker": {
             "colorbar": {
              "outlinewidth": 0,
              "ticks": ""
             }
            },
            "type": "scattercarpet"
           }
          ],
          "scattergeo": [
           {
            "marker": {
             "colorbar": {
              "outlinewidth": 0,
              "ticks": ""
             }
            },
            "type": "scattergeo"
           }
          ],
          "scattergl": [
           {
            "marker": {
             "colorbar": {
              "outlinewidth": 0,
              "ticks": ""
             }
            },
            "type": "scattergl"
           }
          ],
          "scattermapbox": [
           {
            "marker": {
             "colorbar": {
              "outlinewidth": 0,
              "ticks": ""
             }
            },
            "type": "scattermapbox"
           }
          ],
          "scatterpolar": [
           {
            "marker": {
             "colorbar": {
              "outlinewidth": 0,
              "ticks": ""
             }
            },
            "type": "scatterpolar"
           }
          ],
          "scatterpolargl": [
           {
            "marker": {
             "colorbar": {
              "outlinewidth": 0,
              "ticks": ""
             }
            },
            "type": "scatterpolargl"
           }
          ],
          "scatterternary": [
           {
            "marker": {
             "colorbar": {
              "outlinewidth": 0,
              "ticks": ""
             }
            },
            "type": "scatterternary"
           }
          ],
          "surface": [
           {
            "colorbar": {
             "outlinewidth": 0,
             "ticks": ""
            },
            "colorscale": [
             [
              0,
              "#0d0887"
             ],
             [
              0.1111111111111111,
              "#46039f"
             ],
             [
              0.2222222222222222,
              "#7201a8"
             ],
             [
              0.3333333333333333,
              "#9c179e"
             ],
             [
              0.4444444444444444,
              "#bd3786"
             ],
             [
              0.5555555555555556,
              "#d8576b"
             ],
             [
              0.6666666666666666,
              "#ed7953"
             ],
             [
              0.7777777777777778,
              "#fb9f3a"
             ],
             [
              0.8888888888888888,
              "#fdca26"
             ],
             [
              1,
              "#f0f921"
             ]
            ],
            "type": "surface"
           }
          ],
          "table": [
           {
            "cells": {
             "fill": {
              "color": "#EBF0F8"
             },
             "line": {
              "color": "white"
             }
            },
            "header": {
             "fill": {
              "color": "#C8D4E3"
             },
             "line": {
              "color": "white"
             }
            },
            "type": "table"
           }
          ]
         },
         "layout": {
          "annotationdefaults": {
           "arrowcolor": "#2a3f5f",
           "arrowhead": 0,
           "arrowwidth": 1
          },
          "autotypenumbers": "strict",
          "coloraxis": {
           "colorbar": {
            "outlinewidth": 0,
            "ticks": ""
           }
          },
          "colorscale": {
           "diverging": [
            [
             0,
             "#8e0152"
            ],
            [
             0.1,
             "#c51b7d"
            ],
            [
             0.2,
             "#de77ae"
            ],
            [
             0.3,
             "#f1b6da"
            ],
            [
             0.4,
             "#fde0ef"
            ],
            [
             0.5,
             "#f7f7f7"
            ],
            [
             0.6,
             "#e6f5d0"
            ],
            [
             0.7,
             "#b8e186"
            ],
            [
             0.8,
             "#7fbc41"
            ],
            [
             0.9,
             "#4d9221"
            ],
            [
             1,
             "#276419"
            ]
           ],
           "sequential": [
            [
             0,
             "#0d0887"
            ],
            [
             0.1111111111111111,
             "#46039f"
            ],
            [
             0.2222222222222222,
             "#7201a8"
            ],
            [
             0.3333333333333333,
             "#9c179e"
            ],
            [
             0.4444444444444444,
             "#bd3786"
            ],
            [
             0.5555555555555556,
             "#d8576b"
            ],
            [
             0.6666666666666666,
             "#ed7953"
            ],
            [
             0.7777777777777778,
             "#fb9f3a"
            ],
            [
             0.8888888888888888,
             "#fdca26"
            ],
            [
             1,
             "#f0f921"
            ]
           ],
           "sequentialminus": [
            [
             0,
             "#0d0887"
            ],
            [
             0.1111111111111111,
             "#46039f"
            ],
            [
             0.2222222222222222,
             "#7201a8"
            ],
            [
             0.3333333333333333,
             "#9c179e"
            ],
            [
             0.4444444444444444,
             "#bd3786"
            ],
            [
             0.5555555555555556,
             "#d8576b"
            ],
            [
             0.6666666666666666,
             "#ed7953"
            ],
            [
             0.7777777777777778,
             "#fb9f3a"
            ],
            [
             0.8888888888888888,
             "#fdca26"
            ],
            [
             1,
             "#f0f921"
            ]
           ]
          },
          "colorway": [
           "#636efa",
           "#EF553B",
           "#00cc96",
           "#ab63fa",
           "#FFA15A",
           "#19d3f3",
           "#FF6692",
           "#B6E880",
           "#FF97FF",
           "#FECB52"
          ],
          "font": {
           "color": "#2a3f5f"
          },
          "geo": {
           "bgcolor": "white",
           "lakecolor": "white",
           "landcolor": "#E5ECF6",
           "showlakes": true,
           "showland": true,
           "subunitcolor": "white"
          },
          "hoverlabel": {
           "align": "left"
          },
          "hovermode": "closest",
          "mapbox": {
           "style": "light"
          },
          "paper_bgcolor": "white",
          "plot_bgcolor": "#E5ECF6",
          "polar": {
           "angularaxis": {
            "gridcolor": "white",
            "linecolor": "white",
            "ticks": ""
           },
           "bgcolor": "#E5ECF6",
           "radialaxis": {
            "gridcolor": "white",
            "linecolor": "white",
            "ticks": ""
           }
          },
          "scene": {
           "xaxis": {
            "backgroundcolor": "#E5ECF6",
            "gridcolor": "white",
            "gridwidth": 2,
            "linecolor": "white",
            "showbackground": true,
            "ticks": "",
            "zerolinecolor": "white"
           },
           "yaxis": {
            "backgroundcolor": "#E5ECF6",
            "gridcolor": "white",
            "gridwidth": 2,
            "linecolor": "white",
            "showbackground": true,
            "ticks": "",
            "zerolinecolor": "white"
           },
           "zaxis": {
            "backgroundcolor": "#E5ECF6",
            "gridcolor": "white",
            "gridwidth": 2,
            "linecolor": "white",
            "showbackground": true,
            "ticks": "",
            "zerolinecolor": "white"
           }
          },
          "shapedefaults": {
           "line": {
            "color": "#2a3f5f"
           }
          },
          "ternary": {
           "aaxis": {
            "gridcolor": "white",
            "linecolor": "white",
            "ticks": ""
           },
           "baxis": {
            "gridcolor": "white",
            "linecolor": "white",
            "ticks": ""
           },
           "bgcolor": "#E5ECF6",
           "caxis": {
            "gridcolor": "white",
            "linecolor": "white",
            "ticks": ""
           }
          },
          "title": {
           "x": 0.05
          },
          "xaxis": {
           "automargin": true,
           "gridcolor": "white",
           "linecolor": "white",
           "ticks": "",
           "title": {
            "standoff": 15
           },
           "zerolinecolor": "white",
           "zerolinewidth": 2
          },
          "yaxis": {
           "automargin": true,
           "gridcolor": "white",
           "linecolor": "white",
           "ticks": "",
           "title": {
            "standoff": 15
           },
           "zerolinecolor": "white",
           "zerolinewidth": 2
          }
         }
        },
        "xaxis": {
         "anchor": "y",
         "domain": [
          0,
          1
         ],
         "title": {
          "text": "x"
         }
        },
        "yaxis": {
         "anchor": "x",
         "domain": [
          0,
          1
         ],
         "title": {
          "text": "index"
         }
        }
       }
      }
     },
     "metadata": {},
     "output_type": "display_data"
    }
   ],
   "source": [
    "# Add intercept term to x\n",
    "x = np.append(np.ones((x.shape)),x,axis=1)\n",
    "\n",
    "print(x[:,1].mean(), x[:,1].std())\n",
    "# Normalize the data\n",
    "x[:,1] = (x[:,1] - x[:,1].mean()) / x[:,1].std()\n",
    "\n",
    "# Num of examples and features (with intercept)\n",
    "m = x.shape[0]\n",
    "n = x.shape[1]\n",
    "\n",
    "print(x[:,1].mean(), x[:,1].std())\n",
    "\n",
    "# Visualize data\n",
    "fig = px.scatter(x[:,1],y[:,0])\n",
    "fig.show()"
   ]
  },
  {
   "cell_type": "code",
   "execution_count": 6,
   "metadata": {
    "scrolled": false
   },
   "outputs": [
    {
     "name": "stdout",
     "output_type": "stream",
     "text": [
      "Initial Cost value for the hypothesis with zero parameters=0.4966279047145\n",
      "[9.95548478e-08]\n",
      "Cost of the model is 1.197530238073229e-06 with 947 iterations\n"
     ]
    },
    {
     "data": {
      "application/vnd.plotly.v1+json": {
       "config": {
        "plotlyServerURL": "https://plot.ly"
       },
       "data": [
        {
         "hovertemplate": "x=%{x}<br>index=%{y}<extra></extra>",
         "legendgroup": "",
         "marker": {
          "color": "#636efa",
          "symbol": "circle"
         },
         "mode": "markers",
         "name": "",
         "orientation": "h",
         "showlegend": false,
         "type": "scatter",
         "x": [
          0.4966279047145,
          0.48674503318699863,
          0.47705883080289463,
          0.46756538384623436,
          0.4582608564840115,
          0.449141489216297,
          0.4402035973572099,
          0.43144356954611857,
          0.422857866288468,
          0.41444301852564486,
          0.40619562623330163,
          0.39811235704757614,
          0.39018994491864667,
          0.38242518879108284,
          0.37481495131045756,
          0.3673561575556968,
          0.3600457937966554,
          0.35288090627641927,
          0.3458586000178358,
          0.33897603765379813,
          0.33223043828080484,
          0.3256190763353341,
          0.3191392804925781,
          0.31278843258709305,
          0.3065639665549272,
          0.30046336739680135,
          0.2944841701619222,
          0.2886239589520172,
          0.2828803659451893,
          0.2772510704391973,
          0.27173379791377456,
          0.2663263191116076,
          0.26102644913760387,
          0.2558320465760828,
          0.250741012625536,
          0.2457512902506051,
          0.24086086335093534,
          0.23606775594656895,
          0.23137003137954942,
          0.22676579153141366,
          0.2222531760562558,
          0.21783036162905356,
          0.21349556120895263,
          0.20924702331721168,
          0.20508303132951644,
          0.20100190278237626,
          0.1970019886933243,
          0.19308167289464437,
          0.18923937138035815,
          0.1854735316662063,
          0.18178263216236598,
          0.17816518155865216,
          0.17461971822195224,
          0.1711448096056526,
          0.16773905167081737,
          0.16440106831888535,
          0.16112951083565671,
          0.1579230573463444,
          0.15478041228146938,
          0.15170030585338543,
          0.14868149354322024,
          0.14572275559802741,
          0.14282289653794386,
          0.13998074467315602,
          0.13719515163047746,
          0.13446499188934818,
          0.13178916232706742,
          0.12916658177307602,
          0.12659619057210905,
          0.12407695015604134,
          0.12160784262425332,
          0.11918787033234794,
          0.11681605548905148,
          0.11449143976113657,
          0.11221308388620722,
          0.10998006729318893,
          0.1077914877303717,
          0.10564646090085449,
          0.10354412010524476,
          0.10148361589146758,
          0.09946411571154463,
          0.09748480358520216,
          0.09554487977017388,
          0.09364356043906465,
          0.09178007736264446,
          0.08995367759944509,
          0.0881636231915334,
          0.08640919086633911,
          0.08468967174441622,
          0.08300437105301957,
          0.0813526078453817,
          0.07973371472557582,
          0.07814703757885413,
          0.07659193530735219,
          0.07506777957105311,
          0.07357395453390637,
          0.0721098566149989,
          0.07067489424467766,
          0.06926848762552583,
          0.06789006849809509,
          0.06653907991130024,
          0.0652149759973826,
          0.06391722175135194,
          0.06264529281481726,
          0.061398675264119636,
          0.060176865402680885,
          0.05897936955748479,
          0.0578057038796081,
          0.05665539414872115,
          0.05552797558147882,
          0.054422992643724605,
          0.05333999886643175,
          0.052278556665307,
          0.05123823716398462,
          0.05021862002073857,
          0.04921929325864311,
          0.048239853099113356,
          0.04727990379875824,
          0.046339057489480195,
          0.04541693402175679,
          0.0445131608110411,
          0.043627372687218606,
          0.0427592117470602,
          0.04190832720961092,
          0.04107437527445692,
          0.04025701898281247,
          0.03945592808137173,
          0.03867077888886966,
          0.03790125416529838,
          0.03714704298372619,
          0.036407840604667285,
          0.03568334835295163,
          0.03497327349704515,
          0.03427732913077118,
          0.03359523405738607,
          0.03292671267596133,
          0.032271494870026944,
          0.03162931589843065,
          0.03099991628836911,
          0.03038304173054782,
          0.02977844297642716,
          0.02918587573751349,
          0.028605100586654216,
          0.028035882861297025,
          0.02747799256867445,
          0.026931204292875086,
          0.02639529710376411,
          0.025870054467716452,
          0.025355264160126133,
          0.024850718179656867,
          0.024356212664198934,
          0.02387154780849862,
          0.023396527783426727,
          0.022930960656853756,
          0.022474658316099606,
          0.02202743639192645,
          0.02158911418404436,
          0.021159514588099122,
          0.020738464024113185,
          0.020325792366350563,
          0.019921332874577435,
          0.019524922126690582,
          0.01913639995268667,
          0.018755609369945456,
          0.018382396519800788,
          0.018016610605374,
          0.017658103830644298,
          0.017306731340731716,
          0.0169623511633684,
          0.016624824151534597,
          0.016294013927236308,
          0.015969786826401548,
          0.015652011844873408,
          0.015340560585477666,
          0.015035307206143891,
          0.01473612836905887,
          0.014442903190831835,
          0.014155513193651516,
          0.01387384225741509,
          0.013597776572809762,
          0.013327204595328091,
          0.013062017000198297,
          0.012802106638211599,
          0.012547368492428426,
          0.012297699635746326,
          0.012052999189312226,
          0.01181316828176214,
          0.011578110009272313,
          0.011347729396405031,
          0.011121933357733814,
          0.010900630660232152,
          0.01068373188641077,
          0.010471149398188431,
          0.01026279730148172,
          0.01005859141149948,
          0.009858449218727876,
          0.009662289855592435,
          0.009470034063783375,
          0.009281604162231324,
          0.009096924015720162,
          0.008915919004124575,
          0.008738515992259733,
          0.008564643300331003,
          0.008394230674971647,
          0.008227209260856952,
          0.008063511572883134,
          0.007903071468899995,
          0.007745824122986128,
          0.007591705999255939,
          0.00744065482618799,
          0.007292609571464095,
          0.00714751041730919,
          0.007005298736321976,
          0.006865917067786406,
          0.006729309094454698,
          0.006595419619792281,
          0.006464194545675658,
          0.006335580850533949,
          0.006209526567925563,
          0.00608598076554108,
          0.005964893524624054,
          0.005846215919801267,
          0.005729899999314464,
          0.005615898765645344,
          0.005504166156526237,
          0.005394657026328603,
          0.005287327127821905,
          0.005182133094295489,
          0.0050790324220362495,
          0.004977983453154968,
          0.0048789453587544255,
          0.004781878122432449,
          0.004686742524113277,
          0.004593500124200659,
          0.004502113248046307,
          0.004412544970727422,
          0.004324759102127182,
          0.004238720172312089,
          0.0041543934172003204,
          0.004071744764515277,
          0.003990740820018664,
          0.003911348854017533,
          0.0038335367881398227,
          0.0037572731823730817,
          0.0036825272223611006,
          0.0036092687069533558,
          0.0035374680360022205,
          0.003467096198403015,
          0.003398124760372031,
          0.003330525853957863,
          0.003264272165781343,
          0.003199336925999536,
          0.0031356938974893846,
          0.0030733173652465846,
          0.003012182125995414,
          0.0029522634780053494,
          0.0028935372111102797,
          0.0028359795969264256,
          0.002779567379264831,
          0.002724277764734697,
          0.0026700884135337187,
          0.0026169774304216336,
          0.0025649233558734824,
          0.002513905157408835,
          0.0024639022210936378,
          0.002414894343211117,
          0.002366861722098455,
          0.0023197849501459308,
          0.0022736450059552687,
          0.0022284232466539995,
          0.002184101400362821,
          0.002140661558812843,
          0.0020980861701097066,
          0.002056358031641764,
          0.0020154602831293296,
          0.001975376399812296,
          0.001936090185773273,
          0.0018975857673936213,
          0.0018598475869397244,
          0.0018228603962768609,
          0.0017866092507081868,
          0.0017510795029363297,
          0.001716256797145138,
          0.0016821270631991892,
          0.0016486765109587618,
          0.0016158916247079231,
          0.0015837591576934732,
          0.0015522661267726114,
          0.0015213998071670774,
          0.0014911477273216892,
          0.0014614976638652269,
          0.0014324376366715475,
          0.0014039559040190245,
          0.001376040957846285,
          0.0013486815191023837,
          0.0013218665331894875,
          0.0012955851654962572,
          0.0012698267970201222,
          0.0012445810200766615,
          0.0012198376340943748,
          0.0011955866414931368,
          0.0011718182436446648,
          0.0011485228369133745,
          0.001125691008776035,
          0.0011033135340186313,
          0.0010813813710088996,
          0.0010598856580430606,
          0.001038817709765242,
          0.001018169013658151,
          0.0009979312266035947,
          0.0009780961715114241,
          0.000958655834015586,
          0.0009396023592359128,
          0.0009209280486043564,
          0.0009026253567543686,
          0.0008846868884721943,
          0.0008671053957088354,
          0.0008498737746514653,
          0.0008329850628531386,
          0.0008164324364196006,
          0.0008002092072520875,
          0.0007843088203450094,
          0.0007687248511373807,
          0.0007534510029169859,
          0.0007384811042761771,
          0.0007238091066183212,
          0.0007094290817138546,
          0.0006953352193049883,
          0.0006815218247580569,
          0.0006679833167626096,
          0.0006547142250762743,
          0.0006417091883144933,
          0.0006289629517842723,
          0.0006164703653610022,
          0.0006042263814075567,
          0.000592226052734783,
          0.0005804645306025984,
          0.0005689370627608446,
          0.0005576389915291409,
          0.0005465657519149496,
          0.000535712869769081,
          0.000525075959977915,
          0.0005146507246915922,
          0.0005044329515874698,
          0.0004944185121681162,
          0.00048460336009321,
          0.0004749835295445942,
          0.00046555513362389394,
          0.0004563143627820166,
          0.00044725748327989473,
          0.00043838083567986514,
          0.0004296808333670735,
          0.00042115396110030894,
          0.00041279677359165,
          0.00040460589411441493,
          0.0003965780131387781,
          0.00038870988699455544,
          0.00038099833656060394,
          0.0003734402459802871,
          0.00036603256140251825,
          0.0003587722897478468,
          0.0003516564974991034,
          0.00034468230951611106,
          0.00033784690787397944,
          0.00033114753072452694,
          0.00032458147118034653,
          0.00031814607622109584,
          0.0003118387456215333,
          0.0003056569309009044,
          0.00029959813429321434,
          0.00029365990773801815,
          0.0002878398518912702,
          0.00028213561515587387,
          0.00027654489273151137,
          0.000271065425683392,
          0.0002656950000295309,
          0.0002604314458461819,
          0.00025527263639108107,
          0.00025021648724413815,
          0.00024526095546521874,
          0.0002404040387686987,
          0.0002356437747144407,
          0.00023097823991486254,
          0.00022640554925779642,
          0.00022192385514480404,
          0.00021753134674466133,
          0.0002132262492616814,
          0.00020900682321861312,
          0.0002048713637538016,
          0.00020081819993234015,
          0.00019684569407092526,
          0.00019295224107615205,
          0.00018913626779597508,
          0.00018539623238407444,
          0.00018173062367686903,
          0.0001781379605829387,
          0.0001746167914845777,
          0.0001711656936512733,
          0.00016778327266485225,
          0.0001644681618560614,
          0.00016121902175236382,
          0.00015803453953673076,
          0.000154913428517189,
          0.00015185442760693555,
          0.00014885630081479595,
          0.00014591783674581935,
          0.00014303784811181628,
          0.00014021517125162883,
          0.00013744866566096057,
          0.00013473721353154526,
          0.00013207971929950527,
          0.00012947510920268446,
          0.0001269223308467898,
          0.0001244203527801768,
          0.0001219681640770906,
          0.0001195647739291958,
          0.00011720921124524414,
          0.00011490052425870177,
          0.00011263778014319206,
          0.00011042006463558046,
          0.00010824648166657164,
          0.00010611615299864546,
          0.00010402821787121174,
          0.0001019818326528133,
          0.00009997617050026125,
          0.00009801042102454435,
          0.00009608378996339513,
          0.00009419549886036201,
          0.00009234478475027875,
          0.00009053089985098726,
          0.00008875311126119196,
          0.00008701070066433293,
          0.00008530296403835055,
          0.00008362921137122563,
          0.00008198876638217711,
          0.00008038096624841032,
          0.00007880516133730573,
          0.00007726071494393176,
          0.0000757470030337861,
          0.00007426341399065189,
          0.00007280934836947591,
          0.00007138421865416172,
          0.00006998744902018214,
          0.00006861847510191865,
          0.00006727674376462852,
          0.00006596171288095159,
          0.0000646728511118588,
          0.00006340963769197152,
          0.00006217156221913973,
          0.00006095812444821762,
          0.00005976883408893719,
          0.00005860321060780608,
          0.00005746078303394881,
          0.000056341089768811296,
          0.00005524367839965064,
          0.000054168105516735954,
          0.00005311393653419159,
          0.000052080745514400006,
          0.00005106811499590187,
          0.000050075635824722284,
          0.000049102906989048934,
          0.000048149535457205596,
          0.00004721513601884608,
          0.000046299331129309036,
          0.00004540175075707475,
          0.00004452203223424706,
          0.000043659820110023806,
          0.00004281476600707256,
          0.000041986528480770526,
          0.00004117477288124202,
          0.00004037917121814368,
          0.00003959940202814115,
          0.00003883515024502016,
          0.00003808610707238286,
          0.00003735196985888104,
          0.00003663244197592797,
          0.00003592723269784592,
          0.00003523605708439709,
          0.00003455863586565602,
          0.00003389469532916837,
          0.000033243967209356924,
          0.00003260618857912966,
          0.00003198110174364384,
          0.00003136845413618397,
          0.00003076799821611278,
          0.00003017949136885051,
          0.000029602695807849,
          0.000029037378478511057,
          0.000028483310964027482,
          0.000027940269393082274,
          0.000027408034349398467,
          0.000026886390783084355,
          0.000026375127923739897,
          0.00002587403919529612,
          0.00002538292213254806,
          0.000024901578299348988,
          0.000024429813208430834,
          0.00002396743624282177,
          0.000023514260578828086,
          0.00002307010311054763,
          0.000022634784375886647,
          0.00002220812848404523,
          0.00002178996304445115,
          0.000021380119097105335,
          0.000020978431044311828,
          0.000020584736583768732,
          0.00002019887664299023,
          0.000019820695315033265,
          0.00001945003979550246,
          0.000019086760320810404,
          0.000018730710107664587,
          0.00001838174529376078,
          0.00001803972487965335,
          0.000017704510671786696,
          0.000017375967226656897,
          0.000017053961796085108,
          0.000016738364273581664,
          0.00001642904714177612,
          0.000016125885420893416,
          0.0000158287566182563,
          0.000015537540678791578,
          0.000015252119936522222,
          0.000014972379067024176,
          0.000014698205040829292,
          0.000014429487077755081,
          0.000014166116602146381,
          0.00001390798719900231,
          0.000013654994570980828,
          0.000013407036496256621,
          0.000013164012787219559,
          0.000012925825249991943,
          0.000012692377644755919,
          0.000012463575646864088,
          0.000012239326808729861,
          0.000012019540522474842,
          0.000011804127983316156,
          0.000011593002153686535,
          0.000011386077728066766,
          0.00001118327109851696,
          0.000010984500320895035,
          0.000010789685081747634,
          0.000010598746665859247,
          0.000010411607924447103,
          0.000010228193243989249,
          0.000010048428515672278,
          0.000009872241105449077,
          0.000009699559824689067,
          0.000009530314901416206,
          0.00000936443795211638,
          0.000009201861954107689,
          0.000009042521218459381,
          0.000008886351363450482,
          0.000008733289288556562,
          0.00000858327314895301,
          0.000008436242330527468,
          0.000008292137425388758,
          0.000008150900207862223,
          0.000008012473610964346,
          0.000007876801703344646,
          0.000007743829666686503,
          0.000007613503773558016,
          0.000007485771365702672,
          0.000007360580832763907,
          0.000007237881591430528,
          0.000007117624064999773,
          0.000006999759663344904,
          0.000006884240763282931,
          0.000006771020689332253,
          0.000006660053694853241,
          0.000006551294943564275,
          0.0000064447004914260555,
          0.000006340227268885383,
          0.000006237833063473125,
          0.000006137476502748645,
          0.000006039117037582642,
          0.000005942714925773372,
          0.0000058482312159889885,
          0.000005755627732029447,
          0.000005664867057400549,
          0.000005575912520196916,
          0.000005488728178283631,
          0.0000054032788047742866,
          0.000005319529873797882,
          0.000005237447546547932,
          0.000005156998657610234,
          0.0000050781507015625075,
          0.00000500087181983994,
          0.000004925130787863849,
          0.000004850897002423857,
          0.000004778140469314164,
          0.000004706831791213408,
          0.00000463694215580675,
          0.000004568443324144796,
          0.000004501307619232844,
          0.000004435507914848754,
          0.0000043710176245818106,
          0.000004307810691091258,
          0.0000042458615755772245,
          0.000004185145247461704,
          0.000004125637174275749,
          0.00000406731331174635,
          0.000004010150094081158,
          0.000003954124424447549,
          0.00000389921366563952,
          0.000003845395630931944,
          0.000003792648575115117,
          0.000003740951185708759,
          0.000003690282574351723,
          0.0000036406222683606427,
          0.0000035919502024588776,
          0.000003544246710668545,
          0.000003497492518364871,
          0.0000034516687344879983,
          0.0000034067568439103368,
          0.0000033627386999551015,
          0.000003319596517064486,
          0.0000032773128636135743,
          0.0000032358706548662287,
          0.0000031952531460729852,
          0.0000031554439257047847,
          0.0000031164269088218457,
          0.0000030781863305748916,
          0.0000030407067398349436,
          0.000003003972992950837,
          0.000002967970247629725,
          0.000002932683956940541,
          0.0000028980998634359753,
          0.0000028642039933922453,
          0.0000028309826511622898,
          0.0000027984224136428375,
          0.000002766510124849926,
          0.0000027352328906039944,
          0.0000027045780733194685,
          0.0000026745332868988928,
          0.000002645086391728145,
          0.0000026162254897712536,
          0.0000025879389197634288,
          0.0000025602152524986685,
          0.000002533043286212586,
          0.0000025064120420555227,
          0.0000024803107596571565,
          0.000002454728892778645,
          0.0000024296561050509017,
          0.0000024050822657989507,
          0.0000023809974459480997,
          0.0000023573919140123796,
          0.0000023342561321621593,
          0.000002311580752370789,
          0.000002289356612637227,
          0.000002267574733284258,
          0.00000224622631333043,
          0.0000022253027269338047,
          0.0000022047955199063676,
          0.0000021846964062988026,
          0.00000216499726505202,
          0.0000021456901367159976,
          0.0000021267672202338923,
          0.000002108220869789866,
          0.0000020900435917197317,
          0.00000207222804148308,
          0.0000020547670206961755,
          0.000002037653474222914,
          0.000002020880487324389,
          0.0000020044412828652457,
          0.0000019883292185747817,
          0.0000019725377843637727,
          0.000001957060599693497,
          0.0000019418914109982067,
          0.000001927024089157924,
          0.000001912452627022279,
          0.0000018981711369831425,
          0.0000018841738485957912,
          0.0000018704551062472944,
          0.0000018570093668714968,
          0.000001843831197709394,
          0.0000018309152741135092,
          0.0000018182563773972052,
          0.0000018058493927256107,
          0.0000017936893070489614,
          0.0000017817712070772664,
          0.000001770090277295007,
          0.0000017586417980154365,
          0.0000017474211434734788,
          0.0000017364237799569706,
          0.0000017256452639743342,
          0.0000017150812404597962,
          0.0000017047274410131738,
          0.0000016945796821756374,
          0.0000016846338637389298,
          0.000001674885967089152,
          0.0000016653320535826757,
          0.000001655968262954921,
          0.0000016467908117606784,
          0.0000016377959918451794,
          0.0000016289801688461068,
          0.0000016203397807246393,
          0.0000016118713363268317,
          0.0000016035714139724713,
          0.0000015954366600729475,
          0.0000015874637877760263,
          0.000001579649575637851,
          0.0000015719908663212553,
          0.00000156448456532001,
          0.0000015571276397086842,
          0.0000015499171169170513,
          0.0000015428500835289816,
          0.0000015359236841053435,
          0.0000015291351200302681,
          0.0000015224816483802248,
          0.0000015159605808160437,
          0.0000015095692824964048,
          0.0000015033051710132689,
          0.0000014971657153487009,
          0.0000014911484348518625,
          0.0000014852508982369058,
          0.0000014794707226005253,
          0.0000014738055724593731,
          0.0000014682531588060047,
          0.0000014628112381843691,
          0.0000014574776117831068,
          0.0000014522501245471523,
          0.000001447126664307243,
          0.0000014421051609260927,
          0.0000014371835854622249,
          0.0000014323599493500858,
          0.0000014276323035966151,
          0.0000014229987379936077,
          0.0000014184573803460789,
          0.0000014140063957157576,
          0.0000014096439856795684,
          0.000001405368387603102,
          0.000001401177873928399,
          0.0000013970707514758316,
          0.0000013930453607600626,
          0.0000013891000753194855,
          0.0000013852333010591617,
          0.000001381443475606706,
          0.000001377729067680735,
          0.0000013740885764724783,
          0.0000013705205310392328,
          0.0000013670234897101153,
          0.0000013635960395034521,
          0.0000013602367955559087,
          0.000001356944400562937,
          0.0000013537175242303484,
          0.0000013505548627367243,
          0.0000013474551382068102,
          0.000001344417098195094,
          0.0000013414395151795702,
          0.0000013385211860660474,
          0.0000013356609317018714,
          0.000001332857596399577,
          0.0000013301100474697913,
          0.0000013274171747637237,
          0.0000013247778902244909,
          0.0000013221911274476092,
          0.0000013196558412499637,
          0.000001317171007247665,
          0.000001314735621442037,
          0.0000013123486998139225,
          0.0000013100092779262109,
          0.000001307716410534025,
          0.0000013054691712029664,
          0.0000013032666519345943,
          0.0000013011079627996664,
          0.0000012989922315785524,
          0.000001296918603408731,
          0.000001294886240439489,
          0.000001292894321493305,
          0.000001290942041734131,
          0.0000012890286123421726,
          0.0000012871532601951352,
          0.0000012853152275558428,
          0.0000012835137717660383,
          0.000001281748164946451,
          0.0000012800176937025826,
          0.0000012783216588364665,
          0.0000012766593750642124,
          0.0000012750301707390005,
          0.000001273433387579883,
          0.000001271868380405633,
          0.000001270334516874136,
          0.0000012688311772269114,
          0.0000012673577540386677,
          0.0000012659136519718842,
          0.0000012644982875362046,
          0.0000012631110888527886,
          0.0000012617514954231955,
          0.0000012604189579028508,
          0.0000012591129378791672,
          0.000001257832907653929,
          0.0000012565783500301988,
          0.0000012553487581031836,
          0.0000012541436350555128,
          0.0000012529624939565013,
          0.0000012518048575653468,
          0.0000012506702581383502,
          0.000001249558237239966,
          0.0000012484683455574883,
          0.0000012474001427194535,
          0.0000012463531971178947,
          0.0000012453270857338067,
          0.0000012443213939662906,
          0.000001243335715464926,
          0.000001242369651965751,
          0.00000124142281313023,
          0.0000012404948163874886,
          0.0000012395852867799492,
          0.0000012386938568116071,
          0.0000012378201662996418,
          0.0000012369638622288494,
          0.000001236124598609054,
          0.0000012353020363353334,
          0.00000123449584305083,
          0.000001233705693012706,
          0.000001232931266960318,
          0.0000012321722519863812,
          0.0000012314283414104196,
          0.0000012306992346549114,
          0.0000012299846371238641,
          0.0000012292842600836776,
          0.0000012285978205465852,
          0.0000012279250411562856,
          0.000001227265650075847,
          0.0000012266193808779296,
          0.0000012259859724370194,
          0.0000012253651688240972,
          0.0000012247567192030862,
          0.0000012241603777295277,
          0.0000012235759034512906,
          0.000001223003060211169,
          0.0000012224416165515533,
          0.0000012218913456207586,
          0.0000012213520250814755,
          0.000001220823437020933,
          0.0000012203053678628003,
          0.000001219797608280911,
          0.0000012192999531146998,
          0.000001218812201286299,
          0.000001218334155719269,
          0.0000012178656232590406,
          0.0000012174064145947628,
          0.0000012169563441829047,
          0.0000012165152301722354,
          0.0000012160828943303868,
          0.0000012156591619718048,
          0.0000012152438618871529,
          0.0000012148368262741595,
          0.000001214437890669874,
          0.0000012140468938841145,
          0.000001213663677934386,
          0.0000012132880879820794,
          0.0000012129199722698032,
          0.0000012125591820602187,
          0.0000012122055715757895,
          0.0000012118589979400016,
          0.0000012115193211195556,
          0.0000012111864038678533,
          0.0000012108601116694618,
          0.0000012105403126858028,
          0.0000012102268777019178,
          0.00000120991968007422,
          0.0000012096185956793207,
          0.0000012093235028638808,
          0.0000012090342823954664,
          0.0000012087508174143592,
          0.0000012084729933863954,
          0.0000012082006980565692,
          0.000001207933821403814,
          0.0000012076722555964583,
          0.0000012074158949486772,
          0.0000012071646358777555,
          0.0000012069183768623526,
          0.0000012066770184013673,
          0.0000012064404629737512,
          0.000001206208614999151,
          0.0000012059813807992562,
          0.000001205758668559927,
          0.0000012055403882941522,
          0.00000120532645180567,
          0.000001205116772653305,
          0.0000012049112661160828,
          0.000001204709849158945,
          0.0000012045124403992508,
          0.000001204318960073899,
          0.0000012041293300069892,
          0.0000012039434735784094,
          0.0000012037613156927772,
          0.000001203582782749074,
          0.00000120340780261094,
          0.0000012032363045775542,
          0.000001203068219355045,
          0.000001202903479028448,
          0.000001202742017034363,
          0.0000012025837681339501,
          0.0000012024286683866675,
          0.0000012022766551243523,
          0.0000012021276669259585,
          0.0000012019816435926881,
          0.0000012018385261237668,
          0.0000012016982566924826,
          0.0000012015607786228878,
          0.0000012014260363668795,
          0.0000012012939754817317,
          0.0000012011645426082257,
          0.0000012010376854489055,
          0.000001200913352747031,
          0.0000012007914942659549,
          0.0000012006720607686262,
          0.0000012005550039979079,
          0.0000012004402766569178,
          0.0000012003278323900213,
          0.000001200217625764037,
          0.0000012001096122499009,
          0.000001200003748204705,
          0.0000011998999908539933,
          0.000001199798298274574,
          0.000001199698629377484,
          0.0000011996009438914434,
          0.0000011995052023465906,
          0.0000011994113660584593,
          0.0000011993193971124822,
          0.0000011992292583485097,
          0.0000011991409133459583,
          0.0000011990543264089416,
          0.0000011989694625519864,
          0.0000011988862874857833,
          0.0000011988047676033978,
          0.0000011987248699666655,
          0.0000011986465622928906,
          0.000001198569812941834,
          0.0000011984945909028775,
          0.000001198420865782485,
          0.0000011983486077919816,
          0.0000011982777877355054,
          0.0000011982083769981389,
          0.0000011981403475344534,
          0.0000011980736718571017,
          0.0000011980083230257045,
          0.0000011979442746360712,
          0.0000011978815008093963,
          0.0000011978199761818652,
          0.0000011977596758944193,
          0.000001197700575582688,
          0.0000011976426513671797,
          0.0000011975858798435412,
          0.000001197530238073229
         ],
         "xaxis": "x",
         "y": [
          0,
          1,
          2,
          3,
          4,
          5,
          6,
          7,
          8,
          9,
          10,
          11,
          12,
          13,
          14,
          15,
          16,
          17,
          18,
          19,
          20,
          21,
          22,
          23,
          24,
          25,
          26,
          27,
          28,
          29,
          30,
          31,
          32,
          33,
          34,
          35,
          36,
          37,
          38,
          39,
          40,
          41,
          42,
          43,
          44,
          45,
          46,
          47,
          48,
          49,
          50,
          51,
          52,
          53,
          54,
          55,
          56,
          57,
          58,
          59,
          60,
          61,
          62,
          63,
          64,
          65,
          66,
          67,
          68,
          69,
          70,
          71,
          72,
          73,
          74,
          75,
          76,
          77,
          78,
          79,
          80,
          81,
          82,
          83,
          84,
          85,
          86,
          87,
          88,
          89,
          90,
          91,
          92,
          93,
          94,
          95,
          96,
          97,
          98,
          99,
          100,
          101,
          102,
          103,
          104,
          105,
          106,
          107,
          108,
          109,
          110,
          111,
          112,
          113,
          114,
          115,
          116,
          117,
          118,
          119,
          120,
          121,
          122,
          123,
          124,
          125,
          126,
          127,
          128,
          129,
          130,
          131,
          132,
          133,
          134,
          135,
          136,
          137,
          138,
          139,
          140,
          141,
          142,
          143,
          144,
          145,
          146,
          147,
          148,
          149,
          150,
          151,
          152,
          153,
          154,
          155,
          156,
          157,
          158,
          159,
          160,
          161,
          162,
          163,
          164,
          165,
          166,
          167,
          168,
          169,
          170,
          171,
          172,
          173,
          174,
          175,
          176,
          177,
          178,
          179,
          180,
          181,
          182,
          183,
          184,
          185,
          186,
          187,
          188,
          189,
          190,
          191,
          192,
          193,
          194,
          195,
          196,
          197,
          198,
          199,
          200,
          201,
          202,
          203,
          204,
          205,
          206,
          207,
          208,
          209,
          210,
          211,
          212,
          213,
          214,
          215,
          216,
          217,
          218,
          219,
          220,
          221,
          222,
          223,
          224,
          225,
          226,
          227,
          228,
          229,
          230,
          231,
          232,
          233,
          234,
          235,
          236,
          237,
          238,
          239,
          240,
          241,
          242,
          243,
          244,
          245,
          246,
          247,
          248,
          249,
          250,
          251,
          252,
          253,
          254,
          255,
          256,
          257,
          258,
          259,
          260,
          261,
          262,
          263,
          264,
          265,
          266,
          267,
          268,
          269,
          270,
          271,
          272,
          273,
          274,
          275,
          276,
          277,
          278,
          279,
          280,
          281,
          282,
          283,
          284,
          285,
          286,
          287,
          288,
          289,
          290,
          291,
          292,
          293,
          294,
          295,
          296,
          297,
          298,
          299,
          300,
          301,
          302,
          303,
          304,
          305,
          306,
          307,
          308,
          309,
          310,
          311,
          312,
          313,
          314,
          315,
          316,
          317,
          318,
          319,
          320,
          321,
          322,
          323,
          324,
          325,
          326,
          327,
          328,
          329,
          330,
          331,
          332,
          333,
          334,
          335,
          336,
          337,
          338,
          339,
          340,
          341,
          342,
          343,
          344,
          345,
          346,
          347,
          348,
          349,
          350,
          351,
          352,
          353,
          354,
          355,
          356,
          357,
          358,
          359,
          360,
          361,
          362,
          363,
          364,
          365,
          366,
          367,
          368,
          369,
          370,
          371,
          372,
          373,
          374,
          375,
          376,
          377,
          378,
          379,
          380,
          381,
          382,
          383,
          384,
          385,
          386,
          387,
          388,
          389,
          390,
          391,
          392,
          393,
          394,
          395,
          396,
          397,
          398,
          399,
          400,
          401,
          402,
          403,
          404,
          405,
          406,
          407,
          408,
          409,
          410,
          411,
          412,
          413,
          414,
          415,
          416,
          417,
          418,
          419,
          420,
          421,
          422,
          423,
          424,
          425,
          426,
          427,
          428,
          429,
          430,
          431,
          432,
          433,
          434,
          435,
          436,
          437,
          438,
          439,
          440,
          441,
          442,
          443,
          444,
          445,
          446,
          447,
          448,
          449,
          450,
          451,
          452,
          453,
          454,
          455,
          456,
          457,
          458,
          459,
          460,
          461,
          462,
          463,
          464,
          465,
          466,
          467,
          468,
          469,
          470,
          471,
          472,
          473,
          474,
          475,
          476,
          477,
          478,
          479,
          480,
          481,
          482,
          483,
          484,
          485,
          486,
          487,
          488,
          489,
          490,
          491,
          492,
          493,
          494,
          495,
          496,
          497,
          498,
          499,
          500,
          501,
          502,
          503,
          504,
          505,
          506,
          507,
          508,
          509,
          510,
          511,
          512,
          513,
          514,
          515,
          516,
          517,
          518,
          519,
          520,
          521,
          522,
          523,
          524,
          525,
          526,
          527,
          528,
          529,
          530,
          531,
          532,
          533,
          534,
          535,
          536,
          537,
          538,
          539,
          540,
          541,
          542,
          543,
          544,
          545,
          546,
          547,
          548,
          549,
          550,
          551,
          552,
          553,
          554,
          555,
          556,
          557,
          558,
          559,
          560,
          561,
          562,
          563,
          564,
          565,
          566,
          567,
          568,
          569,
          570,
          571,
          572,
          573,
          574,
          575,
          576,
          577,
          578,
          579,
          580,
          581,
          582,
          583,
          584,
          585,
          586,
          587,
          588,
          589,
          590,
          591,
          592,
          593,
          594,
          595,
          596,
          597,
          598,
          599,
          600,
          601,
          602,
          603,
          604,
          605,
          606,
          607,
          608,
          609,
          610,
          611,
          612,
          613,
          614,
          615,
          616,
          617,
          618,
          619,
          620,
          621,
          622,
          623,
          624,
          625,
          626,
          627,
          628,
          629,
          630,
          631,
          632,
          633,
          634,
          635,
          636,
          637,
          638,
          639,
          640,
          641,
          642,
          643,
          644,
          645,
          646,
          647,
          648,
          649,
          650,
          651,
          652,
          653,
          654,
          655,
          656,
          657,
          658,
          659,
          660,
          661,
          662,
          663,
          664,
          665,
          666,
          667,
          668,
          669,
          670,
          671,
          672,
          673,
          674,
          675,
          676,
          677,
          678,
          679,
          680,
          681,
          682,
          683,
          684,
          685,
          686,
          687,
          688,
          689,
          690,
          691,
          692,
          693,
          694,
          695,
          696,
          697,
          698,
          699,
          700,
          701,
          702,
          703,
          704,
          705,
          706,
          707,
          708,
          709,
          710,
          711,
          712,
          713,
          714,
          715,
          716,
          717,
          718,
          719,
          720,
          721,
          722,
          723,
          724,
          725,
          726,
          727,
          728,
          729,
          730,
          731,
          732,
          733,
          734,
          735,
          736,
          737,
          738,
          739,
          740,
          741,
          742,
          743,
          744,
          745,
          746,
          747,
          748,
          749,
          750,
          751,
          752,
          753,
          754,
          755,
          756,
          757,
          758,
          759,
          760,
          761,
          762,
          763,
          764,
          765,
          766,
          767,
          768,
          769,
          770,
          771,
          772,
          773,
          774,
          775,
          776,
          777,
          778,
          779,
          780,
          781,
          782,
          783,
          784,
          785,
          786,
          787,
          788,
          789,
          790,
          791,
          792,
          793,
          794,
          795,
          796,
          797,
          798,
          799,
          800,
          801,
          802,
          803,
          804,
          805,
          806,
          807,
          808,
          809,
          810,
          811,
          812,
          813,
          814,
          815,
          816,
          817,
          818,
          819,
          820,
          821,
          822,
          823,
          824,
          825,
          826,
          827,
          828,
          829,
          830,
          831,
          832,
          833,
          834,
          835,
          836,
          837,
          838,
          839,
          840,
          841,
          842,
          843,
          844,
          845,
          846,
          847,
          848,
          849,
          850,
          851,
          852,
          853,
          854,
          855,
          856,
          857,
          858,
          859,
          860,
          861,
          862,
          863,
          864,
          865,
          866,
          867,
          868,
          869,
          870,
          871,
          872,
          873,
          874,
          875,
          876,
          877,
          878,
          879,
          880,
          881,
          882,
          883,
          884,
          885,
          886,
          887,
          888,
          889,
          890,
          891,
          892,
          893,
          894,
          895,
          896,
          897,
          898,
          899,
          900,
          901,
          902,
          903,
          904,
          905,
          906,
          907,
          908,
          909,
          910,
          911,
          912,
          913,
          914,
          915,
          916,
          917,
          918,
          919,
          920,
          921,
          922,
          923,
          924,
          925,
          926,
          927,
          928,
          929,
          930,
          931,
          932,
          933,
          934,
          935,
          936,
          937,
          938,
          939,
          940,
          941,
          942,
          943,
          944,
          945,
          946
         ],
         "yaxis": "y"
        }
       ],
       "layout": {
        "legend": {
         "tracegroupgap": 0
        },
        "margin": {
         "t": 60
        },
        "template": {
         "data": {
          "bar": [
           {
            "error_x": {
             "color": "#2a3f5f"
            },
            "error_y": {
             "color": "#2a3f5f"
            },
            "marker": {
             "line": {
              "color": "#E5ECF6",
              "width": 0.5
             },
             "pattern": {
              "fillmode": "overlay",
              "size": 10,
              "solidity": 0.2
             }
            },
            "type": "bar"
           }
          ],
          "barpolar": [
           {
            "marker": {
             "line": {
              "color": "#E5ECF6",
              "width": 0.5
             },
             "pattern": {
              "fillmode": "overlay",
              "size": 10,
              "solidity": 0.2
             }
            },
            "type": "barpolar"
           }
          ],
          "carpet": [
           {
            "aaxis": {
             "endlinecolor": "#2a3f5f",
             "gridcolor": "white",
             "linecolor": "white",
             "minorgridcolor": "white",
             "startlinecolor": "#2a3f5f"
            },
            "baxis": {
             "endlinecolor": "#2a3f5f",
             "gridcolor": "white",
             "linecolor": "white",
             "minorgridcolor": "white",
             "startlinecolor": "#2a3f5f"
            },
            "type": "carpet"
           }
          ],
          "choropleth": [
           {
            "colorbar": {
             "outlinewidth": 0,
             "ticks": ""
            },
            "type": "choropleth"
           }
          ],
          "contour": [
           {
            "colorbar": {
             "outlinewidth": 0,
             "ticks": ""
            },
            "colorscale": [
             [
              0,
              "#0d0887"
             ],
             [
              0.1111111111111111,
              "#46039f"
             ],
             [
              0.2222222222222222,
              "#7201a8"
             ],
             [
              0.3333333333333333,
              "#9c179e"
             ],
             [
              0.4444444444444444,
              "#bd3786"
             ],
             [
              0.5555555555555556,
              "#d8576b"
             ],
             [
              0.6666666666666666,
              "#ed7953"
             ],
             [
              0.7777777777777778,
              "#fb9f3a"
             ],
             [
              0.8888888888888888,
              "#fdca26"
             ],
             [
              1,
              "#f0f921"
             ]
            ],
            "type": "contour"
           }
          ],
          "contourcarpet": [
           {
            "colorbar": {
             "outlinewidth": 0,
             "ticks": ""
            },
            "type": "contourcarpet"
           }
          ],
          "heatmap": [
           {
            "colorbar": {
             "outlinewidth": 0,
             "ticks": ""
            },
            "colorscale": [
             [
              0,
              "#0d0887"
             ],
             [
              0.1111111111111111,
              "#46039f"
             ],
             [
              0.2222222222222222,
              "#7201a8"
             ],
             [
              0.3333333333333333,
              "#9c179e"
             ],
             [
              0.4444444444444444,
              "#bd3786"
             ],
             [
              0.5555555555555556,
              "#d8576b"
             ],
             [
              0.6666666666666666,
              "#ed7953"
             ],
             [
              0.7777777777777778,
              "#fb9f3a"
             ],
             [
              0.8888888888888888,
              "#fdca26"
             ],
             [
              1,
              "#f0f921"
             ]
            ],
            "type": "heatmap"
           }
          ],
          "heatmapgl": [
           {
            "colorbar": {
             "outlinewidth": 0,
             "ticks": ""
            },
            "colorscale": [
             [
              0,
              "#0d0887"
             ],
             [
              0.1111111111111111,
              "#46039f"
             ],
             [
              0.2222222222222222,
              "#7201a8"
             ],
             [
              0.3333333333333333,
              "#9c179e"
             ],
             [
              0.4444444444444444,
              "#bd3786"
             ],
             [
              0.5555555555555556,
              "#d8576b"
             ],
             [
              0.6666666666666666,
              "#ed7953"
             ],
             [
              0.7777777777777778,
              "#fb9f3a"
             ],
             [
              0.8888888888888888,
              "#fdca26"
             ],
             [
              1,
              "#f0f921"
             ]
            ],
            "type": "heatmapgl"
           }
          ],
          "histogram": [
           {
            "marker": {
             "pattern": {
              "fillmode": "overlay",
              "size": 10,
              "solidity": 0.2
             }
            },
            "type": "histogram"
           }
          ],
          "histogram2d": [
           {
            "colorbar": {
             "outlinewidth": 0,
             "ticks": ""
            },
            "colorscale": [
             [
              0,
              "#0d0887"
             ],
             [
              0.1111111111111111,
              "#46039f"
             ],
             [
              0.2222222222222222,
              "#7201a8"
             ],
             [
              0.3333333333333333,
              "#9c179e"
             ],
             [
              0.4444444444444444,
              "#bd3786"
             ],
             [
              0.5555555555555556,
              "#d8576b"
             ],
             [
              0.6666666666666666,
              "#ed7953"
             ],
             [
              0.7777777777777778,
              "#fb9f3a"
             ],
             [
              0.8888888888888888,
              "#fdca26"
             ],
             [
              1,
              "#f0f921"
             ]
            ],
            "type": "histogram2d"
           }
          ],
          "histogram2dcontour": [
           {
            "colorbar": {
             "outlinewidth": 0,
             "ticks": ""
            },
            "colorscale": [
             [
              0,
              "#0d0887"
             ],
             [
              0.1111111111111111,
              "#46039f"
             ],
             [
              0.2222222222222222,
              "#7201a8"
             ],
             [
              0.3333333333333333,
              "#9c179e"
             ],
             [
              0.4444444444444444,
              "#bd3786"
             ],
             [
              0.5555555555555556,
              "#d8576b"
             ],
             [
              0.6666666666666666,
              "#ed7953"
             ],
             [
              0.7777777777777778,
              "#fb9f3a"
             ],
             [
              0.8888888888888888,
              "#fdca26"
             ],
             [
              1,
              "#f0f921"
             ]
            ],
            "type": "histogram2dcontour"
           }
          ],
          "mesh3d": [
           {
            "colorbar": {
             "outlinewidth": 0,
             "ticks": ""
            },
            "type": "mesh3d"
           }
          ],
          "parcoords": [
           {
            "line": {
             "colorbar": {
              "outlinewidth": 0,
              "ticks": ""
             }
            },
            "type": "parcoords"
           }
          ],
          "pie": [
           {
            "automargin": true,
            "type": "pie"
           }
          ],
          "scatter": [
           {
            "fillpattern": {
             "fillmode": "overlay",
             "size": 10,
             "solidity": 0.2
            },
            "type": "scatter"
           }
          ],
          "scatter3d": [
           {
            "line": {
             "colorbar": {
              "outlinewidth": 0,
              "ticks": ""
             }
            },
            "marker": {
             "colorbar": {
              "outlinewidth": 0,
              "ticks": ""
             }
            },
            "type": "scatter3d"
           }
          ],
          "scattercarpet": [
           {
            "marker": {
             "colorbar": {
              "outlinewidth": 0,
              "ticks": ""
             }
            },
            "type": "scattercarpet"
           }
          ],
          "scattergeo": [
           {
            "marker": {
             "colorbar": {
              "outlinewidth": 0,
              "ticks": ""
             }
            },
            "type": "scattergeo"
           }
          ],
          "scattergl": [
           {
            "marker": {
             "colorbar": {
              "outlinewidth": 0,
              "ticks": ""
             }
            },
            "type": "scattergl"
           }
          ],
          "scattermapbox": [
           {
            "marker": {
             "colorbar": {
              "outlinewidth": 0,
              "ticks": ""
             }
            },
            "type": "scattermapbox"
           }
          ],
          "scatterpolar": [
           {
            "marker": {
             "colorbar": {
              "outlinewidth": 0,
              "ticks": ""
             }
            },
            "type": "scatterpolar"
           }
          ],
          "scatterpolargl": [
           {
            "marker": {
             "colorbar": {
              "outlinewidth": 0,
              "ticks": ""
             }
            },
            "type": "scatterpolargl"
           }
          ],
          "scatterternary": [
           {
            "marker": {
             "colorbar": {
              "outlinewidth": 0,
              "ticks": ""
             }
            },
            "type": "scatterternary"
           }
          ],
          "surface": [
           {
            "colorbar": {
             "outlinewidth": 0,
             "ticks": ""
            },
            "colorscale": [
             [
              0,
              "#0d0887"
             ],
             [
              0.1111111111111111,
              "#46039f"
             ],
             [
              0.2222222222222222,
              "#7201a8"
             ],
             [
              0.3333333333333333,
              "#9c179e"
             ],
             [
              0.4444444444444444,
              "#bd3786"
             ],
             [
              0.5555555555555556,
              "#d8576b"
             ],
             [
              0.6666666666666666,
              "#ed7953"
             ],
             [
              0.7777777777777778,
              "#fb9f3a"
             ],
             [
              0.8888888888888888,
              "#fdca26"
             ],
             [
              1,
              "#f0f921"
             ]
            ],
            "type": "surface"
           }
          ],
          "table": [
           {
            "cells": {
             "fill": {
              "color": "#EBF0F8"
             },
             "line": {
              "color": "white"
             }
            },
            "header": {
             "fill": {
              "color": "#C8D4E3"
             },
             "line": {
              "color": "white"
             }
            },
            "type": "table"
           }
          ]
         },
         "layout": {
          "annotationdefaults": {
           "arrowcolor": "#2a3f5f",
           "arrowhead": 0,
           "arrowwidth": 1
          },
          "autotypenumbers": "strict",
          "coloraxis": {
           "colorbar": {
            "outlinewidth": 0,
            "ticks": ""
           }
          },
          "colorscale": {
           "diverging": [
            [
             0,
             "#8e0152"
            ],
            [
             0.1,
             "#c51b7d"
            ],
            [
             0.2,
             "#de77ae"
            ],
            [
             0.3,
             "#f1b6da"
            ],
            [
             0.4,
             "#fde0ef"
            ],
            [
             0.5,
             "#f7f7f7"
            ],
            [
             0.6,
             "#e6f5d0"
            ],
            [
             0.7,
             "#b8e186"
            ],
            [
             0.8,
             "#7fbc41"
            ],
            [
             0.9,
             "#4d9221"
            ],
            [
             1,
             "#276419"
            ]
           ],
           "sequential": [
            [
             0,
             "#0d0887"
            ],
            [
             0.1111111111111111,
             "#46039f"
            ],
            [
             0.2222222222222222,
             "#7201a8"
            ],
            [
             0.3333333333333333,
             "#9c179e"
            ],
            [
             0.4444444444444444,
             "#bd3786"
            ],
            [
             0.5555555555555556,
             "#d8576b"
            ],
            [
             0.6666666666666666,
             "#ed7953"
            ],
            [
             0.7777777777777778,
             "#fb9f3a"
            ],
            [
             0.8888888888888888,
             "#fdca26"
            ],
            [
             1,
             "#f0f921"
            ]
           ],
           "sequentialminus": [
            [
             0,
             "#0d0887"
            ],
            [
             0.1111111111111111,
             "#46039f"
            ],
            [
             0.2222222222222222,
             "#7201a8"
            ],
            [
             0.3333333333333333,
             "#9c179e"
            ],
            [
             0.4444444444444444,
             "#bd3786"
            ],
            [
             0.5555555555555556,
             "#d8576b"
            ],
            [
             0.6666666666666666,
             "#ed7953"
            ],
            [
             0.7777777777777778,
             "#fb9f3a"
            ],
            [
             0.8888888888888888,
             "#fdca26"
            ],
            [
             1,
             "#f0f921"
            ]
           ]
          },
          "colorway": [
           "#636efa",
           "#EF553B",
           "#00cc96",
           "#ab63fa",
           "#FFA15A",
           "#19d3f3",
           "#FF6692",
           "#B6E880",
           "#FF97FF",
           "#FECB52"
          ],
          "font": {
           "color": "#2a3f5f"
          },
          "geo": {
           "bgcolor": "white",
           "lakecolor": "white",
           "landcolor": "#E5ECF6",
           "showlakes": true,
           "showland": true,
           "subunitcolor": "white"
          },
          "hoverlabel": {
           "align": "left"
          },
          "hovermode": "closest",
          "mapbox": {
           "style": "light"
          },
          "paper_bgcolor": "white",
          "plot_bgcolor": "#E5ECF6",
          "polar": {
           "angularaxis": {
            "gridcolor": "white",
            "linecolor": "white",
            "ticks": ""
           },
           "bgcolor": "#E5ECF6",
           "radialaxis": {
            "gridcolor": "white",
            "linecolor": "white",
            "ticks": ""
           }
          },
          "scene": {
           "xaxis": {
            "backgroundcolor": "#E5ECF6",
            "gridcolor": "white",
            "gridwidth": 2,
            "linecolor": "white",
            "showbackground": true,
            "ticks": "",
            "zerolinecolor": "white"
           },
           "yaxis": {
            "backgroundcolor": "#E5ECF6",
            "gridcolor": "white",
            "gridwidth": 2,
            "linecolor": "white",
            "showbackground": true,
            "ticks": "",
            "zerolinecolor": "white"
           },
           "zaxis": {
            "backgroundcolor": "#E5ECF6",
            "gridcolor": "white",
            "gridwidth": 2,
            "linecolor": "white",
            "showbackground": true,
            "ticks": "",
            "zerolinecolor": "white"
           }
          },
          "shapedefaults": {
           "line": {
            "color": "#2a3f5f"
           }
          },
          "ternary": {
           "aaxis": {
            "gridcolor": "white",
            "linecolor": "white",
            "ticks": ""
           },
           "baxis": {
            "gridcolor": "white",
            "linecolor": "white",
            "ticks": ""
           },
           "bgcolor": "#E5ECF6",
           "caxis": {
            "gridcolor": "white",
            "linecolor": "white",
            "ticks": ""
           }
          },
          "title": {
           "x": 0.05
          },
          "xaxis": {
           "automargin": true,
           "gridcolor": "white",
           "linecolor": "white",
           "ticks": "",
           "title": {
            "standoff": 15
           },
           "zerolinecolor": "white",
           "zerolinewidth": 2
          },
          "yaxis": {
           "automargin": true,
           "gridcolor": "white",
           "linecolor": "white",
           "ticks": "",
           "title": {
            "standoff": 15
           },
           "zerolinecolor": "white",
           "zerolinewidth": 2
          }
         }
        },
        "xaxis": {
         "anchor": "y",
         "domain": [
          0,
          1
         ],
         "title": {
          "text": "x"
         }
        },
        "yaxis": {
         "anchor": "x",
         "domain": [
          0,
          1
         ],
         "title": {
          "text": "index"
         }
        }
       }
      }
     },
     "metadata": {},
     "output_type": "display_data"
    }
   ],
   "source": [
    "# Question 1.a - Batch gradient descent method for optimizing J(θ)\n",
    "\n",
    "# Initialize params\n",
    "theta = np.zeros((2, 1))\n",
    "alpha = 1e-2\n",
    "\n",
    "# Prediction function: h(θ) = x^Tθ \n",
    "def predict(x, theta):\n",
    "    return x.dot(theta)\n",
    "\n",
    "# Cost function: J(θ) = 1/2m * Σ(y-h(θ))^2\n",
    "def cost(x,y,theta):\n",
    "    return (1/(2*m)) * np.sum((y - predict(x,theta))**2)\n",
    "\n",
    "cost_0 = cost(x, y, theta)\n",
    "print(\"Initial Cost value for the hypothesis with zero parameters={}\".format(cost_0))\n",
    "\n",
    "\n",
    "def cost_grd(x, y, theta):\n",
    "    return (1/m) * (np.zeros((2,1))+  x.T.dot(x.dot(theta)-y)) \n",
    "\n",
    "# Gradient descent function\n",
    "def batch_gradient_descent(x, y, theta, alpha, threshold=10e-8, num_iter=1000000):\n",
    "    \n",
    "    prev_cost=cost_0\n",
    "    c=0.0\n",
    "    cost_hist = np.array([cost_0])\n",
    "    theta_hist = theta\n",
    "    i=1\n",
    "    while True:\n",
    "        #Compute gradient and update theta\n",
    "        theta -= alpha * cost_grd(x,y,theta)\n",
    "        theta_hist = np.append(theta_hist, theta, axis=1)\n",
    "        c = cost(x,y,theta)\n",
    "        cost_hist = np.append(cost_hist,c)\n",
    "        \n",
    "        i+=1\n",
    "        \n",
    "        if(i%1000==0):\n",
    "            print(\"Iteration: \",i,\" Cost: \",c)\n",
    "\n",
    "        # Stop if the cost is below a threshold or if the num of iterations is above a certain amount\n",
    "        if abs(cost_grd(x,y,theta)[1]) <= threshold or i >= num_iter:\n",
    "            print(abs(cost_grd(x,y,theta)[1]))\n",
    "            break\n",
    "        prev_cost = c\n",
    "        \n",
    "\n",
    "    return theta, cost_hist, theta_hist, i\n",
    "\n",
    "\n",
    "\n",
    "theta, cost_hist, theta_hist, iterations = batch_gradient_descent(x, y, theta, alpha)\n",
    "\n",
    "print(f'Cost of the model is {cost_hist[-1]} with {iterations} iterations')\n",
    "\n",
    "# Plot cost decrease\n",
    "fig = px.scatter(range(iterations), cost_hist)\n",
    "fig.show()\n"
   ]
  },
  {
   "cell_type": "code",
   "execution_count": 7,
   "metadata": {},
   "outputs": [
    {
     "data": {
      "image/png": "[encoded data removed]",
      "text/plain": [
       "<Figure size 1080x720 with 1 Axes>"
      ]
     },
     "metadata": {
      "needs_background": "light"
     },
     "output_type": "display_data"
    }
   ],
   "source": [
    "# Question 1.b - Plotting data and hypothesis function\n",
    "\n",
    "# Create predictions from our linear regression model\n",
    "predictions = x.dot(theta)\n",
    "\n",
    "fig = plt.figure(figsize=(15,10))\n",
    "plt.scatter(x[:,1], predictions,label='Prediction')\n",
    "plt.scatter(x[:,1], y,label='Original values')\n",
    "plt.legend()\n",
    "plt.savefig('q1_b.png', dpi=1000)"
   ]
  },
  {
   "cell_type": "code",
   "execution_count": 8,
   "metadata": {
    "scrolled": false
   },
   "outputs": [],
   "source": [
    "# Question 1.c -  Drawing a 3d mesh of error function and the parameters\n",
    "import collections\n",
    "from matplotlib.animation import FuncAnimation\n",
    "\n",
    "def cost_plt(theta_0, theta_1, p):\n",
    "    return np.sum((p.y-p.x.dot(np.array([[theta_0],[theta_1]])))**2)\n",
    "\n",
    "# Create set of points with x and y\n",
    "P = collections.namedtuple('P', ['x', 'y'])\n",
    "points = P(x, y)\n",
    "\n",
    "# Create surface and contour to better see gradient descent working\n",
    "t0 = np.linspace(-0.5,3.0, 50)\n",
    "t1 = np.linspace(-0.5,3.0, 50)\n",
    "t0, t1 = np.meshgrid(t0, t1)\n",
    "c = np.array([cost_plt(t_0, t_1, points)for t_0, t_1 in zip(t0.ravel(), t1.ravel())])\n",
    "c_plt = c.reshape(t0.shape)\n",
    "\n",
    "# Create a mesh of points to plot in\n",
    "theta_0, theta_1 = np.meshgrid(theta_hist[0], theta_hist[1])\n",
    "c = np.array([cost_plt(theta0, theta1, points) for theta0, theta1 in zip(theta_0.ravel(), theta_1.ravel())])\n",
    "c_plt_grd = c.reshape(theta_0.shape)"
   ]
  },
  {
   "cell_type": "code",
   "execution_count": 9,
   "metadata": {},
   "outputs": [
    {
     "data": {
      "image/png": "[encoded data removed]",
      "text/plain": [
       "<Figure size 1080x720 with 1 Axes>"
      ]
     },
     "metadata": {
      "needs_background": "light"
     },
     "output_type": "display_data"
    }
   ],
   "source": [
    "#Plot Graph\n",
    "fig = plt.figure(figsize=(15,10))\n",
    "ax = fig.add_subplot(111, projection='3d')\n",
    "ax.view_init(45, 20)\n",
    "ax.plot_surface(t0, t1, c_plt, alpha=0.3)\n",
    "\n",
    "ax.contour3D(t0, t1, c_plt)\n",
    "\n",
    "sc = ax.scatter([], [], [], marker='o', c='k')\n",
    "x_, y_, z_ = [], [], []\n",
    "\n",
    "def animate(i):\n",
    "    x_.append(theta_0.ravel()[i])\n",
    "    y_.append(theta_1.ravel()[i])\n",
    "    z_.append(c_plt_grd.ravel()[i])\n",
    "    sc._offsets3d = (x_, y_, z_)\n",
    "    return sc\n",
    "\n",
    "anim = FuncAnimation(fig, animate, frames=np.arange(0, 100), interval=200, repeat_delay=3000, blit=False)\n",
    "anim.save('q1_c.gif', writer='pillow')"
   ]
  },
  {
   "cell_type": "code",
   "execution_count": 10,
   "metadata": {},
   "outputs": [
    {
     "data": {
      "image/png": "[encoded data removed]",
      "text/plain": [
       "<Figure size 1080x720 with 1 Axes>"
      ]
     },
     "metadata": {
      "needs_background": "light"
     },
     "output_type": "display_data"
    }
   ],
   "source": [
    "# Question 1.d -  Drawing the contours of error function and the parameters\n",
    "fig = plt.figure(figsize=(15,10))\n",
    "ax = fig.add_subplot(111)\n",
    "c=ax.contour(t0,t1,c_plt)\n",
    "\n",
    "p, = ax.plot([], [])\n",
    "x_, y_ = [], []\n",
    "\n",
    "def init():\n",
    "    p.set_data([], [])\n",
    "    return p,\n",
    "\n",
    "def animate_contour(i):\n",
    "    x_.append(theta_0.ravel()[i])\n",
    "    y_.append(theta_1.ravel()[i])\n",
    "    p.set_data(x_, y_)\n",
    "    return p,\n",
    "\n",
    "anim1 = FuncAnimation(fig, animate_contour, init_func=init, frames=np.arange(0, 100), interval=200, repeat_delay=3000, blit=False)\n",
    "anim1.save('q1_d.gif', writer='pillow')"
   ]
  },
  {
   "cell_type": "code",
   "execution_count": 11,
   "metadata": {},
   "outputs": [
    {
     "name": "stdout",
     "output_type": "stream",
     "text": [
      "Iteration:  1000  Cost:  0.06727957841089334\n",
      "Iteration:  2000  Cost:  0.00909722723624577\n",
      "Iteration:  3000  Cost:  0.0012309776979822769\n",
      "Iteration:  4000  Cost:  0.0001674613472508531\n",
      "Iteration:  5000  Cost:  2.36740159729569e-05\n",
      "Iteration:  6000  Cost:  4.233979511075723e-06\n",
      "Iteration:  7000  Cost:  1.6056880317042154e-06\n",
      "Iteration:  8000  Cost:  1.250343219771586e-06\n",
      "Iteration:  9000  Cost:  1.2023006277073544e-06\n",
      "[9.99403767e-08]\n",
      "[9.83793222e-08]\n",
      "[9.18833207e-08]\n"
     ]
    },
    {
     "data": {
      "image/png": "[encoded data removed]",
      "text/plain": [
       "<Figure size 1080x720 with 1 Axes>"
      ]
     },
     "metadata": {
      "needs_background": "light"
     },
     "output_type": "display_data"
    },
    {
     "data": {
      "image/png": "[encoded data removed]",
      "text/plain": [
       "<Figure size 1080x720 with 1 Axes>"
      ]
     },
     "metadata": {
      "needs_background": "light"
     },
     "output_type": "display_data"
    },
    {
     "data": {
      "image/png": "[encoded data removed]",
      "text/plain": [
       "<Figure size 1080x720 with 1 Axes>"
      ]
     },
     "metadata": {
      "needs_background": "light"
     },
     "output_type": "display_data"
    }
   ],
   "source": [
    "for step in [0.001, 0.025, 0.1]:\n",
    "    theta = np.zeros((2, 1))\n",
    "    theta, cost_hist, theta_hist, iterations = batch_gradient_descent(x, y, theta, step)\n",
    "    \n",
    "    # Create surface and contour to better see gradient descent working\n",
    "    t0 = np.linspace(-0.5,3.0, 50)\n",
    "    t1 = np.linspace(-0.5,3.0, 50)\n",
    "    t0, t1 = np.meshgrid(t0, t1)\n",
    "    c = np.array([cost_plt(t_0, t_1, points)for t_0, t_1 in zip(t0.ravel(), t1.ravel())])\n",
    "    c_plt = c.reshape(t0.shape)\n",
    "\n",
    "    # Create a mesh of points to plot in\n",
    "    theta_0, theta_1 = np.meshgrid(theta_hist[0], theta_hist[1])\n",
    "    c = np.array([cost_plt(theta0, theta1, points) for theta0, theta1 in zip(theta_0.ravel(), theta_1.ravel())])\n",
    "    c_plt_grd = c.reshape(theta_0.shape)\n",
    "    \n",
    "    fig = plt.figure(figsize=(15,10))\n",
    "    ax = fig.add_subplot(111)\n",
    "    c=ax.contour(t0,t1,c_plt)\n",
    "\n",
    "    p, = ax.plot([], [])\n",
    "    x_, y_ = [], []\n",
    "\n",
    "    anim1 = FuncAnimation(fig, animate_contour, init_func=init, frames=np.arange(0, 100), interval=200, repeat_delay=3000, blit=False)\n",
    "    file = \"q1_e\"+str(step)+\".gif\" \n",
    "    anim1.save(file, writer='pillow')\n",
    "    \n",
    "    \n",
    "    "
   ]
  },
  {
   "cell_type": "code",
   "execution_count": null,
   "metadata": {},
   "outputs": [],
   "source": []
  },
  {
   "cell_type": "markdown",
   "metadata": {},
   "source": [
    "# "
   ]
  }
 ],
 "metadata": {
  "kernelspec": {
   "display_name": "Python 3 (ipykernel)",
   "language": "python",
   "name": "python3"
  },
  "language_info": {
   "codemirror_mode": {
    "name": "ipython",
    "version": 3
   },
   "file_extension": ".py",
   "mimetype": "text/x-python",
   "name": "python",
   "nbconvert_exporter": "python",
   "pygments_lexer": "ipython3",
   "version": "3.10.6"
  },
  "vscode": {
   "interpreter": {
    "hash": "a5d4af56a2e7987301107af7338a2f4c12a3584e52162a713fa580e431dd5f3e"
   }
  }
 },
 "nbformat": 4,
 "nbformat_minor": 4
}
